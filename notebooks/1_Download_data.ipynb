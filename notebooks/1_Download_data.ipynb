{
 "cells": [
  {
   "cell_type": "markdown",
   "id": "090d8aed-f1fd-44b1-a2d7-35f960b93175",
   "metadata": {},
   "source": [
    "# Download 2018's tlc taxi data "
   ]
  },
  {
   "cell_type": "code",
   "execution_count": 1,
   "id": "2151cfe7-efa1-409f-95f8-e52fa4595ba7",
   "metadata": {},
   "outputs": [
    {
     "name": "stdout",
     "output_type": "stream",
     "text": [
      "Begin month 01\n",
      "Completed month 01\n",
      "Begin month 02\n",
      "Completed month 02\n",
      "Begin month 03\n",
      "Completed month 03\n",
      "Begin month 04\n",
      "Completed month 04\n",
      "Begin month 05\n",
      "Completed month 05\n",
      "Begin month 06\n",
      "Completed month 06\n"
     ]
    }
   ],
   "source": [
    "%run ../scripts/download_tlc_data.py\n"
   ]
  },
  {
   "cell_type": "markdown",
   "id": "afc40296-c639-40d1-8031-aa23734d5deb",
   "metadata": {},
   "source": [
    "# Download U.S. Regular Gasoline Prices data"
   ]
  },
  {
   "cell_type": "code",
   "execution_count": 2,
   "id": "a665e78b-6b97-44b3-a130-c1e8bf5ac4e8",
   "metadata": {},
   "outputs": [],
   "source": [
    "%run ../scripts/Gasoline_data.py\n"
   ]
  },
  {
   "cell_type": "markdown",
   "id": "5f2e8c99-5b91-4423-83b5-bcc952464e5e",
   "metadata": {},
   "source": [
    "# Download tlc taxi zone data"
   ]
  },
  {
   "cell_type": "code",
   "execution_count": 3,
   "id": "b9d8fdb2-dd33-4c61-8dc2-f57c542a8c3d",
   "metadata": {},
   "outputs": [],
   "source": [
    "%run ../scripts/download_taxi_zone.py"
   ]
  },
  {
   "cell_type": "markdown",
   "id": "a7c21d63-cc7f-4ec7-82e0-f57f2f33e843",
   "metadata": {},
   "source": [
    "# Download weather data"
   ]
  },
  {
   "cell_type": "code",
   "execution_count": 4,
   "id": "86b423d7-4e8e-4309-b9c2-bcb336e79e41",
   "metadata": {},
   "outputs": [],
   "source": [
    "%run ../scripts/Weather_data.py"
   ]
  },
  {
   "cell_type": "markdown",
   "id": "a8b38939-cdb0-44c2-86e3-fce6ac3f7bc0",
   "metadata": {},
   "source": [
    "# Download the test data for both weather and tlc taxi data"
   ]
  },
  {
   "cell_type": "code",
   "execution_count": 5,
   "id": "9433eb05-5169-4509-9d4e-8ffa0a84f6fd",
   "metadata": {},
   "outputs": [
    {
     "name": "stdout",
     "output_type": "stream",
     "text": [
      "Begin month 03\n",
      "Completed month 03\n"
     ]
    }
   ],
   "source": [
    "%run ../scripts/download_testdata.py\n",
    "\n"
   ]
  },
  {
   "cell_type": "code",
   "execution_count": null,
   "id": "4794ccf3-8567-4c59-aa46-972df9aafa84",
   "metadata": {},
   "outputs": [],
   "source": []
  }
 ],
 "metadata": {
  "kernelspec": {
   "display_name": "Python 3 (ipykernel)",
   "language": "python",
   "name": "python3"
  },
  "language_info": {
   "codemirror_mode": {
    "name": "ipython",
    "version": 3
   },
   "file_extension": ".py",
   "mimetype": "text/x-python",
   "name": "python",
   "nbconvert_exporter": "python",
   "pygments_lexer": "ipython3",
   "version": "3.10.6"
  }
 },
 "nbformat": 4,
 "nbformat_minor": 5
}
