{
 "cells": [
  {
   "cell_type": "markdown",
   "id": "350ef389-5c76-4246-947f-343afad264fd",
   "metadata": {},
   "source": [
    "# Modeling "
   ]
  },
  {
   "cell_type": "code",
   "execution_count": 1,
   "id": "9d598f32-1e44-4f1e-af93-f710c64e713e",
   "metadata": {},
   "outputs": [],
   "source": [
    "import numpy as np\n",
    "import pandas as pd\n",
    "import geopandas as gpd\n",
    "import matplotlib.pyplot as plt\n",
    "import warnings\n",
    "from pyspark.sql import SparkSession\n",
    "from pyspark.sql.functions import (\n",
    "    col, sum, avg, format_number, mean, month, year, unix_timestamp,\n",
    "    date_format, when, round, expr, weekofyear, log\n",
    ")\n",
    "from pyspark.ml.feature import VectorAssembler, StringIndexer, OneHotEncoder\n",
    "import pyspark.sql.functions as F\n",
    "from pyspark.ml.regression import LinearRegression, RandomForestRegressor\n",
    "from sklearn.neighbors import KNeighborsRegressor\n",
    "from sklearn.metrics import mean_squared_error\n",
    "\n",
    "\n",
    "\n",
    "warnings.filterwarnings('ignore')\n"
   ]
  },
  {
   "cell_type": "markdown",
   "id": "9af1f81b-7b82-4062-9384-e7f487c7adb5",
   "metadata": {},
   "source": [
    "### Reading data"
   ]
  },
  {
   "cell_type": "code",
   "execution_count": 2,
   "id": "d8506fde-a339-43d3-88e4-a08e9a04e54c",
   "metadata": {},
   "outputs": [
    {
     "name": "stderr",
     "output_type": "stream",
     "text": [
      "23/08/20 19:34:43 WARN Utils: Your hostname, LAPTOP-D9335T9D resolves to a loopback address: 127.0.1.1; using 192.168.0.77 instead (on interface wifi0)\n",
      "23/08/20 19:34:43 WARN Utils: Set SPARK_LOCAL_IP if you need to bind to another address\n",
      "Setting default log level to \"WARN\".\n",
      "To adjust logging level use sc.setLogLevel(newLevel). For SparkR, use setLogLevel(newLevel).\n",
      "23/08/20 19:34:44 WARN NativeCodeLoader: Unable to load native-hadoop library for your platform... using builtin-java classes where applicable\n"
     ]
    }
   ],
   "source": [
    "# Create a spark session (which will run spark jobs)\n",
    "spark = (\n",
    "    SparkSession.builder.appName(\"MAST30034 \")\n",
    "    .config(\"spark.sql.repl.eagerEval.enabled\", True) \n",
    "    .config(\"spark.sql.parquet.cacheMetadata\", \"true\")\n",
    "    .config(\"spark.sql.session.timeZone\", \"Etc/UTC\")\n",
    "    .getOrCreate()\n",
    ")"
   ]
  },
  {
   "cell_type": "markdown",
   "id": "806b4a99-5865-456f-bbf9-5110cb518831",
   "metadata": {},
   "source": [
    "#### Reading taxi records and weather data "
   ]
  },
  {
   "cell_type": "code",
   "execution_count": 3,
   "id": "d22eb182-979e-4059-9ddc-f157eee2aa13",
   "metadata": {},
   "outputs": [
    {
     "name": "stderr",
     "output_type": "stream",
     "text": [
      "                                                                                \r"
     ]
    }
   ],
   "source": [
    "taxi_sdf = spark.read.parquet('../data/curated/taxi_data/*')\n",
    "weather_sdf = spark.read.parquet('../data/curated/weather_data/*')"
   ]
  },
  {
   "cell_type": "code",
   "execution_count": 4,
   "id": "510e162f-06b3-42b6-b081-a4b2d9c04443",
   "metadata": {},
   "outputs": [
    {
     "data": {
      "text/plain": [
       "5993384.833333333"
      ]
     },
     "execution_count": 4,
     "metadata": {},
     "output_type": "execute_result"
    }
   ],
   "source": [
    "taxi_sdf.count()/6"
   ]
  },
  {
   "cell_type": "code",
   "execution_count": 5,
   "id": "ebed5165-87db-43cd-8828-19565bebd8ae",
   "metadata": {},
   "outputs": [],
   "source": [
    "file_path = \"../data/curated/taxi_zone_gdf/taxi_zone_gdf.geojson\"\n",
    "\n",
    "# Read the GeoPandas DataFrame from the specified file\n",
    "gdf = gpd.read_file(file_path)\n",
    "location = spark.createDataFrame(gdf[[\"LocationID\", \"Borough\"]])\n"
   ]
  },
  {
   "cell_type": "code",
   "execution_count": 6,
   "id": "852a5e29-240c-48c8-9db8-3e09af54b1e6",
   "metadata": {
    "scrolled": true
   },
   "outputs": [],
   "source": [
    "taxi_sdf = taxi_sdf.join(location, location['LocationID']==taxi_sdf[\"pulocationid\"], \"inner\")\n",
    "taxi_sdf = taxi_sdf.drop('LocationID')"
   ]
  },
  {
   "cell_type": "code",
   "execution_count": 7,
   "id": "8c30c464-39ba-4b11-b5ee-c202cbf6dcb6",
   "metadata": {},
   "outputs": [],
   "source": [
    "taxi_sdf = taxi_sdf.filter(F.col(\"Borough\") == 'Manhattan')"
   ]
  },
  {
   "cell_type": "markdown",
   "id": "dea58b97-9b2e-45b9-87b1-8dd199f052e2",
   "metadata": {},
   "source": [
    "#### Group the taxi data by daily hourly time"
   ]
  },
  {
   "cell_type": "code",
   "execution_count": 8,
   "id": "1f52c84d-f919-4877-8798-e7342bbce79b",
   "metadata": {},
   "outputs": [],
   "source": [
    "# Group by the hour of the day and calculate the average trip duration and tip amount\n",
    "gb_taxi = taxi_sdf.groupBy('pickup_day',\"hour\").agg(\n",
    "    F.count(\"*\").alias(\"trip_count\"),\n",
    ")"
   ]
  },
  {
   "cell_type": "code",
   "execution_count": null,
   "id": "80c46df3-af74-47c3-b93f-6e16f89215c4",
   "metadata": {},
   "outputs": [],
   "source": []
  },
  {
   "cell_type": "markdown",
   "id": "6cedc9be-985c-4356-8d1b-7c92cc42d497",
   "metadata": {},
   "source": [
    "#### Joinging the grouped taxi data with weather data "
   ]
  },
  {
   "cell_type": "markdown",
   "id": "87ebba16-1db4-48bf-b82d-2e15d81f69c6",
   "metadata": {},
   "source": [
    "From analysis section we decided to use \n",
    "\n",
    "conditions_index, day_of_week_index, hour, temp, log(windspeed), humindity"
   ]
  },
  {
   "cell_type": "code",
   "execution_count": 9,
   "id": "d1339715-200a-4aee-8f76-331b0b86efa1",
   "metadata": {
    "scrolled": true
   },
   "outputs": [],
   "source": [
    "# Join the taxi and weather data, based on date and hour time \n",
    "full_sdf = gb_taxi.join(weather_sdf, (gb_taxi[\"pickup_day\"] == weather_sdf[\"date\"]) & (gb_taxi[\"hour\"] == weather_sdf[\"hour_of_the_day\"]), \"inner\")\n",
    "\n",
    "# transform the windspeed with natural log\n",
    "full_sdf = full_sdf.withColumn('log(windspeed)', log(full_sdf['windspeed']+1)) # add 1 to aviod zero windspeed\n",
    "\n",
    "# Drop irrelevant feature to form our traning data \n",
    "train = full_sdf.drop(\"pickup_day\", \"hour_of_the_day\", 'snow', 'feelslike', 'sealevelpressure', 'date' ,'windspeed', 'cloudcover')\n"
   ]
  },
  {
   "cell_type": "code",
   "execution_count": 10,
   "id": "a5fd86ea-46bd-4e79-b5bd-42d9c415b821",
   "metadata": {
    "scrolled": true
   },
   "outputs": [
    {
     "name": "stderr",
     "output_type": "stream",
     "text": [
      "                                                                                \r"
     ]
    },
    {
     "data": {
      "text/html": [
       "<table border='1'>\n",
       "<tr><th>hour</th><th>trip_count</th><th>temp</th><th>humidity</th><th>conditions</th><th>day_of_the_week</th><th>log(windspeed)</th></tr>\n",
       "<tr><td>22</td><td>6427</td><td>-2.9</td><td>77.34</td><td>Clear</td><td>Weekday</td><td>2.7536607123542622</td></tr>\n",
       "<tr><td>10</td><td>7581</td><td>-5.8</td><td>56.47</td><td>Clear</td><td>Weekend</td><td>2.4849066497880004</td></tr>\n",
       "<tr><td>13</td><td>8958</td><td>-1.2</td><td>65.8</td><td>Clear</td><td>Weekday</td><td>3.1441522786722644</td></tr>\n",
       "<tr><td>19</td><td>14777</td><td>-0.5</td><td>26.19</td><td>Clear</td><td>Weekday</td><td>2.714694743820879</td></tr>\n",
       "<tr><td>21</td><td>12783</td><td>-6.2</td><td>56.11</td><td>Clear</td><td>Weekday</td><td>2.379546134130174</td></tr>\n",
       "<tr><td>23</td><td>4530</td><td>-2.2</td><td>49.49</td><td>Clear</td><td>Weekday</td><td>2.272125885509337</td></tr>\n",
       "<tr><td>4</td><td>735</td><td>-0.1</td><td>72.15</td><td>Clear</td><td>Weekday</td><td>3.2188758248682006</td></tr>\n",
       "<tr><td>22</td><td>13361</td><td>-2.6</td><td>52.48</td><td>Clear</td><td>Weekday</td><td>2.747270914255491</td></tr>\n",
       "<tr><td>2</td><td>1028</td><td>0.0</td><td>55.54</td><td>Clear</td><td>Weekday</td><td>2.3608540011180215</td></tr>\n",
       "<tr><td>0</td><td>1748</td><td>16.9</td><td>93.74</td><td>Overcast</td><td>Weekday</td><td>2.70805020110221</td></tr>\n",
       "<tr><td>22</td><td>9732</td><td>2.1</td><td>85.25</td><td>Clear</td><td>Weekday</td><td>2.72785282839839</td></tr>\n",
       "<tr><td>17</td><td>10356</td><td>9.2</td><td>41.4</td><td>Partially cloudy</td><td>Weekend</td><td>2.4336133554004498</td></tr>\n",
       "<tr><td>6</td><td>5664</td><td>-2.2</td><td>65.07</td><td>Clear</td><td>Weekday</td><td>2.3513752571634776</td></tr>\n",
       "<tr><td>8</td><td>11935</td><td>-0.6</td><td>81.58</td><td>Clear</td><td>Weekday</td><td>2.4849066497880004</td></tr>\n",
       "<tr><td>9</td><td>7308</td><td>-5.1</td><td>73.55</td><td>Clear</td><td>Weekday</td><td>3.459466289786131</td></tr>\n",
       "<tr><td>6</td><td>5343</td><td>-2.2</td><td>87.51</td><td>Overcast</td><td>Weekday</td><td>2.4932054526026954</td></tr>\n",
       "<tr><td>9</td><td>5106</td><td>7.1</td><td>52.41</td><td>Partially cloudy</td><td>Weekend</td><td>2.501435951739211</td></tr>\n",
       "<tr><td>3</td><td>1399</td><td>3.3</td><td>85.45</td><td>Overcast</td><td>Weekday</td><td>2.9444389791664403</td></tr>\n",
       "<tr><td>10</td><td>8782</td><td>1.1</td><td>55.98</td><td>Clear</td><td>Weekday</td><td>2.4069451083182885</td></tr>\n",
       "<tr><td>11</td><td>9467</td><td>1.6</td><td>45.26</td><td>Clear</td><td>Weekday</td><td>2.4849066497880004</td></tr>\n",
       "</table>\n",
       "only showing top 20 rows\n"
      ],
      "text/plain": [
       "+----+----------+----+--------+----------------+---------------+------------------+\n",
       "|hour|trip_count|temp|humidity|      conditions|day_of_the_week|    log(windspeed)|\n",
       "+----+----------+----+--------+----------------+---------------+------------------+\n",
       "|  22|      6427|-2.9|   77.34|           Clear|        Weekday|2.7536607123542622|\n",
       "|  10|      7581|-5.8|   56.47|           Clear|        Weekend|2.4849066497880004|\n",
       "|  13|      8958|-1.2|    65.8|           Clear|        Weekday|3.1441522786722644|\n",
       "|  19|     14777|-0.5|   26.19|           Clear|        Weekday| 2.714694743820879|\n",
       "|  21|     12783|-6.2|   56.11|           Clear|        Weekday| 2.379546134130174|\n",
       "|  23|      4530|-2.2|   49.49|           Clear|        Weekday| 2.272125885509337|\n",
       "|   4|       735|-0.1|   72.15|           Clear|        Weekday|3.2188758248682006|\n",
       "|  22|     13361|-2.6|   52.48|           Clear|        Weekday| 2.747270914255491|\n",
       "|   2|      1028| 0.0|   55.54|           Clear|        Weekday|2.3608540011180215|\n",
       "|   0|      1748|16.9|   93.74|        Overcast|        Weekday|  2.70805020110221|\n",
       "|  22|      9732| 2.1|   85.25|           Clear|        Weekday|  2.72785282839839|\n",
       "|  17|     10356| 9.2|    41.4|Partially cloudy|        Weekend|2.4336133554004498|\n",
       "|   6|      5664|-2.2|   65.07|           Clear|        Weekday|2.3513752571634776|\n",
       "|   8|     11935|-0.6|   81.58|           Clear|        Weekday|2.4849066497880004|\n",
       "|   9|      7308|-5.1|   73.55|           Clear|        Weekday| 3.459466289786131|\n",
       "|   6|      5343|-2.2|   87.51|        Overcast|        Weekday|2.4932054526026954|\n",
       "|   9|      5106| 7.1|   52.41|Partially cloudy|        Weekend| 2.501435951739211|\n",
       "|   3|      1399| 3.3|   85.45|        Overcast|        Weekday|2.9444389791664403|\n",
       "|  10|      8782| 1.1|   55.98|           Clear|        Weekday|2.4069451083182885|\n",
       "|  11|      9467| 1.6|   45.26|           Clear|        Weekday|2.4849066497880004|\n",
       "+----+----------+----+--------+----------------+---------------+------------------+\n",
       "only showing top 20 rows"
      ]
     },
     "execution_count": 10,
     "metadata": {},
     "output_type": "execute_result"
    }
   ],
   "source": [
    "train"
   ]
  },
  {
   "cell_type": "code",
   "execution_count": null,
   "id": "904cb1e8-e885-4915-b5f6-aa3d6f44f856",
   "metadata": {},
   "outputs": [],
   "source": []
  },
  {
   "cell_type": "code",
   "execution_count": null,
   "id": "91e651d3-b5fa-468b-94c8-890ca35ed6dd",
   "metadata": {},
   "outputs": [],
   "source": []
  },
  {
   "cell_type": "markdown",
   "id": "7cda5a4e-ff26-4760-b4a8-28959f7edf17",
   "metadata": {},
   "source": [
    "### import the test data that we have already sampeld and merged from curated data"
   ]
  },
  {
   "cell_type": "code",
   "execution_count": 11,
   "id": "3351b9ca-25bc-4fb2-bede-549c8b1315be",
   "metadata": {},
   "outputs": [],
   "source": [
    "test = spark.read.parquet('../data/curated/test_data/*')\n"
   ]
  },
  {
   "cell_type": "code",
   "execution_count": 12,
   "id": "9e0d704b-311b-4769-b543-1373f42fea85",
   "metadata": {
    "scrolled": true
   },
   "outputs": [
    {
     "data": {
      "text/html": [
       "<table border='1'>\n",
       "<tr><th>hour</th><th>trip_count</th><th>temp</th><th>humidity</th><th>conditions</th><th>day_of_the_week</th><th>log(windspeed)</th></tr>\n",
       "<tr><td>11</td><td>5540</td><td>0.5</td><td>84.41</td><td>Partially cloudy</td><td>Weekday</td><td>2.9652730660692823</td></tr>\n",
       "<tr><td>12</td><td>5630</td><td>4.9</td><td>34.59</td><td>Partially cloudy</td><td>Weekend</td><td>2.6602595372658615</td></tr>\n",
       "<tr><td>21</td><td>5834</td><td>6.7</td><td>30.48</td><td>Clear</td><td>Weekend</td><td>2.186051276738094</td></tr>\n",
       "<tr><td>17</td><td>6589</td><td>7.8</td><td>41.32</td><td>Clear</td><td>Weekday</td><td>2.33214389523559</td></tr>\n",
       "<tr><td>7</td><td>1321</td><td>2.8</td><td>65.8</td><td>Clear</td><td>Weekend</td><td>0.26236426446749106</td></tr>\n",
       "<tr><td>10</td><td>5784</td><td>1.0</td><td>48.88</td><td>Clear</td><td>Weekday</td><td>2.33214389523559</td></tr>\n",
       "<tr><td>1</td><td>4976</td><td>2.8</td><td>61.18</td><td>Overcast</td><td>Weekend</td><td>2.341805806147327</td></tr>\n",
       "<tr><td>21</td><td>8580</td><td>8.9</td><td>76.3</td><td>Clear</td><td>Weekday</td><td>1.916922612182061</td></tr>\n",
       "<tr><td>2</td><td>3808</td><td>2.2</td><td>66.51</td><td>Overcast</td><td>Weekend</td><td>2.3513752571634776</td></tr>\n",
       "<tr><td>19</td><td>4933</td><td>4.4</td><td>93.18</td><td>Partially cloudy</td><td>Weekend</td><td>0.09531017980432493</td></tr>\n",
       "<tr><td>5</td><td>657</td><td>2.3</td><td>84.51</td><td>Partially cloudy</td><td>Weekend</td><td>2.509599262378372</td></tr>\n",
       "<tr><td>12</td><td>4452</td><td>5.6</td><td>32.95</td><td>Clear</td><td>Weekday</td><td>2.6390573296152584</td></tr>\n",
       "<tr><td>14</td><td>4943</td><td>7.2</td><td>32.95</td><td>Partially cloudy</td><td>Weekday</td><td>2.3513752571634776</td></tr>\n",
       "<tr><td>16</td><td>5212</td><td>10.0</td><td>47.46</td><td>Overcast</td><td>Weekday</td><td>2.0149030205422647</td></tr>\n",
       "<tr><td>13</td><td>4353</td><td>9.4</td><td>49.25</td><td>Overcast</td><td>Weekday</td><td>2.1162555148025524</td></tr>\n",
       "<tr><td>16</td><td>5078</td><td>7.2</td><td>39.19</td><td>Clear</td><td>Weekday</td><td>2.4849066497880004</td></tr>\n",
       "<tr><td>22</td><td>6585</td><td>3.4</td><td>78.32</td><td>Overcast</td><td>Weekend</td><td>2.341805806147327</td></tr>\n",
       "<tr><td>13</td><td>4758</td><td>4.9</td><td>50.99</td><td>Partially cloudy</td><td>Weekday</td><td>2.3608540011180215</td></tr>\n",
       "<tr><td>0</td><td>6914</td><td>3.8</td><td>69.27</td><td>Clear</td><td>Weekend</td><td>3.068052935133617</td></tr>\n",
       "<tr><td>15</td><td>6067</td><td>20.2</td><td>62.6</td><td>Partially cloudy</td><td>Weekday</td><td>2.714694743820879</td></tr>\n",
       "</table>\n",
       "only showing top 20 rows\n"
      ],
      "text/plain": [
       "+----+----------+----+--------+----------------+---------------+-------------------+\n",
       "|hour|trip_count|temp|humidity|      conditions|day_of_the_week|     log(windspeed)|\n",
       "+----+----------+----+--------+----------------+---------------+-------------------+\n",
       "|  11|      5540| 0.5|   84.41|Partially cloudy|        Weekday| 2.9652730660692823|\n",
       "|  12|      5630| 4.9|   34.59|Partially cloudy|        Weekend| 2.6602595372658615|\n",
       "|  21|      5834| 6.7|   30.48|           Clear|        Weekend|  2.186051276738094|\n",
       "|  17|      6589| 7.8|   41.32|           Clear|        Weekday|   2.33214389523559|\n",
       "|   7|      1321| 2.8|    65.8|           Clear|        Weekend|0.26236426446749106|\n",
       "|  10|      5784| 1.0|   48.88|           Clear|        Weekday|   2.33214389523559|\n",
       "|   1|      4976| 2.8|   61.18|        Overcast|        Weekend|  2.341805806147327|\n",
       "|  21|      8580| 8.9|    76.3|           Clear|        Weekday|  1.916922612182061|\n",
       "|   2|      3808| 2.2|   66.51|        Overcast|        Weekend| 2.3513752571634776|\n",
       "|  19|      4933| 4.4|   93.18|Partially cloudy|        Weekend|0.09531017980432493|\n",
       "|   5|       657| 2.3|   84.51|Partially cloudy|        Weekend|  2.509599262378372|\n",
       "|  12|      4452| 5.6|   32.95|           Clear|        Weekday| 2.6390573296152584|\n",
       "|  14|      4943| 7.2|   32.95|Partially cloudy|        Weekday| 2.3513752571634776|\n",
       "|  16|      5212|10.0|   47.46|        Overcast|        Weekday| 2.0149030205422647|\n",
       "|  13|      4353| 9.4|   49.25|        Overcast|        Weekday| 2.1162555148025524|\n",
       "|  16|      5078| 7.2|   39.19|           Clear|        Weekday| 2.4849066497880004|\n",
       "|  22|      6585| 3.4|   78.32|        Overcast|        Weekend|  2.341805806147327|\n",
       "|  13|      4758| 4.9|   50.99|Partially cloudy|        Weekday| 2.3608540011180215|\n",
       "|   0|      6914| 3.8|   69.27|           Clear|        Weekend|  3.068052935133617|\n",
       "|  15|      6067|20.2|    62.6|Partially cloudy|        Weekday|  2.714694743820879|\n",
       "+----+----------+----+--------+----------------+---------------+-------------------+\n",
       "only showing top 20 rows"
      ]
     },
     "execution_count": 12,
     "metadata": {},
     "output_type": "execute_result"
    }
   ],
   "source": [
    "test"
   ]
  },
  {
   "cell_type": "markdown",
   "id": "d94cc272-9f17-470f-acd2-1c7423615e40",
   "metadata": {},
   "source": [
    "# Apply model"
   ]
  },
  {
   "cell_type": "code",
   "execution_count": 13,
   "id": "efbfc3b9-615e-441f-9e88-e810b2ce8441",
   "metadata": {},
   "outputs": [],
   "source": [
    "train_data = train\n",
    "test_data = test"
   ]
  },
  {
   "cell_type": "markdown",
   "id": "f20b40db-3f11-4d5a-b51f-1943ec12aa28",
   "metadata": {},
   "source": [
    "#### Indexing the feature and assemble features in a vector column"
   ]
  },
  {
   "cell_type": "code",
   "execution_count": 14,
   "id": "637c0d5d-33f7-48b8-b84f-8835f7693c95",
   "metadata": {},
   "outputs": [
    {
     "name": "stderr",
     "output_type": "stream",
     "text": [
      "                                                                                \r"
     ]
    }
   ],
   "source": [
    "# categorical data to be index\n",
    "categorical_features = [\"day_of_the_week\", \"conditions\"]\n",
    "\n",
    "# Apply string indexing to categorical features\n",
    "indexers = [StringIndexer(inputCol=feature, outputCol=f\"{feature}_index\") for feature in categorical_features]\n",
    "\n",
    "train_indexed_data = train_data\n",
    "test_indexed_data = test_data\n",
    "\n",
    "for indexer in indexers:\n",
    "    train_indexed_data = indexer.fit(train_indexed_data).transform(train_indexed_data)\n",
    "    test_indexed_data = indexer.fit(test_indexed_data).transform(test_indexed_data)\n",
    "\n",
    "\n",
    "# Assemble features into a vector column\n",
    "feature_columns = [\"day_of_the_week_index\", \"conditions_index\", \"hour\", \"temp\", \"log(windspeed)\", \"humidity\"]\n",
    "assembler = VectorAssembler(inputCols=feature_columns, outputCol=\"features\")\n",
    "\n",
    "train_data_with_features = assembler.transform(train_indexed_data)\n",
    "test_data_with_features = assembler.transform(test_indexed_data)"
   ]
  },
  {
   "cell_type": "markdown",
   "id": "e7089787-eb4f-45ac-b8f5-7361131e28c5",
   "metadata": {},
   "source": [
    "###### create a dataframe to store predited and actual hourly taxi demand"
   ]
  },
  {
   "cell_type": "code",
   "execution_count": 15,
   "id": "375686f2-db2d-475c-8395-e871cc6d61cf",
   "metadata": {},
   "outputs": [],
   "source": [
    "result = test_data.select(\"hour\", \"trip_count\").toPandas()"
   ]
  },
  {
   "cell_type": "markdown",
   "id": "945f6ebf-65a0-4e34-83be-bad9339e392c",
   "metadata": {},
   "source": [
    "### Linear regression "
   ]
  },
  {
   "cell_type": "code",
   "execution_count": 16,
   "id": "2b24a3af-2d7b-4c03-9690-ab3fc97d7d8d",
   "metadata": {},
   "outputs": [
    {
     "name": "stderr",
     "output_type": "stream",
     "text": [
      "23/08/20 19:35:40 WARN Instrumentation: [76568076] regParam is zero, which might cause numerical instability and overfitting.\n",
      "                                                                                \r"
     ]
    }
   ],
   "source": [
    "# Create a LinearRegression model\n",
    "lr = LinearRegression(featuresCol=\"features\", labelCol=\"trip_count\")\n",
    "\n",
    "# Fit the model to the training data\n",
    "lr_model = lr.fit(train_data_with_features)\n",
    "\n",
    "# Make predictions on the test data \n",
    "test_predictions = lr_model.transform(test_data_with_features)\n",
    "\n",
    "# save the prediction to the result dataframe\n",
    "result[\"linear regression prediction\"] =test_predictions.select(\"prediction\").toPandas()\n"
   ]
  },
  {
   "cell_type": "markdown",
   "id": "8f2fa976-afde-46da-9540-dab380380561",
   "metadata": {},
   "source": [
    "### Random Forest Regression"
   ]
  },
  {
   "cell_type": "code",
   "execution_count": 17,
   "id": "e713f65c-2add-472e-9621-1fba46f4fcc6",
   "metadata": {},
   "outputs": [
    {
     "name": "stderr",
     "output_type": "stream",
     "text": [
      "                                                                                \r"
     ]
    }
   ],
   "source": [
    "# Create a RandomForestRegressor model\n",
    "rf = RandomForestRegressor(featuresCol=\"features\", labelCol=\"trip_count\")\n",
    "\n",
    "# Fit the model to the training data\n",
    "rf_model = rf.fit(train_data_with_features)\n",
    "\n",
    "# Make predictions on the test data\n",
    "test_predictions = rf_model.transform(test_data_with_features)\n",
    "\n",
    "# save the prediction to the result dataframe\n",
    "result[\"rf regression prediction\"] =test_predictions.select(\"prediction\").toPandas()\n"
   ]
  },
  {
   "cell_type": "markdown",
   "id": "1c7ab044-f0d9-4b35-ade5-493105c14e1d",
   "metadata": {},
   "source": [
    "### KNN"
   ]
  },
  {
   "cell_type": "markdown",
   "id": "feb40ce7-ac8d-4c58-a518-e63a718325ca",
   "metadata": {},
   "source": [
    "Spark's MLlib library doesn't have a built-in k-nearest neighbors (KNN) regressor.\n",
    "\n",
    " KNeighborsRegressor from scikit-learn\n",
    "\n",
    " thus we will need to convert our data to pandas"
   ]
  },
  {
   "cell_type": "code",
   "execution_count": 18,
   "id": "676bf524-9caf-44c5-b6d8-41bfa91b92e8",
   "metadata": {},
   "outputs": [
    {
     "name": "stderr",
     "output_type": "stream",
     "text": [
      "                                                                                \r"
     ]
    }
   ],
   "source": [
    "# Convert the indexed train and test data to Pandas DataFrames\n",
    "train_data_pandas = train_indexed_data.toPandas()\n",
    "test_data_pandas = test_indexed_data.toPandas()"
   ]
  },
  {
   "cell_type": "code",
   "execution_count": 19,
   "id": "faae3b57-5dd4-4999-b33c-4ac924d46f9e",
   "metadata": {},
   "outputs": [
    {
     "data": {
      "text/html": [
       "<div>\n",
       "<style scoped>\n",
       "    .dataframe tbody tr th:only-of-type {\n",
       "        vertical-align: middle;\n",
       "    }\n",
       "\n",
       "    .dataframe tbody tr th {\n",
       "        vertical-align: top;\n",
       "    }\n",
       "\n",
       "    .dataframe thead th {\n",
       "        text-align: right;\n",
       "    }\n",
       "</style>\n",
       "<table border=\"1\" class=\"dataframe\">\n",
       "  <thead>\n",
       "    <tr style=\"text-align: right;\">\n",
       "      <th></th>\n",
       "      <th>hour</th>\n",
       "      <th>trip_count</th>\n",
       "      <th>temp</th>\n",
       "      <th>humidity</th>\n",
       "      <th>conditions</th>\n",
       "      <th>day_of_the_week</th>\n",
       "      <th>log(windspeed)</th>\n",
       "      <th>day_of_the_week_index</th>\n",
       "      <th>conditions_index</th>\n",
       "    </tr>\n",
       "  </thead>\n",
       "  <tbody>\n",
       "    <tr>\n",
       "      <th>0</th>\n",
       "      <td>11</td>\n",
       "      <td>5540</td>\n",
       "      <td>0.5</td>\n",
       "      <td>84.41</td>\n",
       "      <td>Partially cloudy</td>\n",
       "      <td>Weekday</td>\n",
       "      <td>2.965273</td>\n",
       "      <td>0.0</td>\n",
       "      <td>1.0</td>\n",
       "    </tr>\n",
       "    <tr>\n",
       "      <th>1</th>\n",
       "      <td>12</td>\n",
       "      <td>5630</td>\n",
       "      <td>4.9</td>\n",
       "      <td>34.59</td>\n",
       "      <td>Partially cloudy</td>\n",
       "      <td>Weekend</td>\n",
       "      <td>2.660260</td>\n",
       "      <td>1.0</td>\n",
       "      <td>1.0</td>\n",
       "    </tr>\n",
       "    <tr>\n",
       "      <th>2</th>\n",
       "      <td>21</td>\n",
       "      <td>5834</td>\n",
       "      <td>6.7</td>\n",
       "      <td>30.48</td>\n",
       "      <td>Clear</td>\n",
       "      <td>Weekend</td>\n",
       "      <td>2.186051</td>\n",
       "      <td>1.0</td>\n",
       "      <td>0.0</td>\n",
       "    </tr>\n",
       "    <tr>\n",
       "      <th>3</th>\n",
       "      <td>17</td>\n",
       "      <td>6589</td>\n",
       "      <td>7.8</td>\n",
       "      <td>41.32</td>\n",
       "      <td>Clear</td>\n",
       "      <td>Weekday</td>\n",
       "      <td>2.332144</td>\n",
       "      <td>0.0</td>\n",
       "      <td>0.0</td>\n",
       "    </tr>\n",
       "    <tr>\n",
       "      <th>4</th>\n",
       "      <td>7</td>\n",
       "      <td>1321</td>\n",
       "      <td>2.8</td>\n",
       "      <td>65.80</td>\n",
       "      <td>Clear</td>\n",
       "      <td>Weekend</td>\n",
       "      <td>0.262364</td>\n",
       "      <td>1.0</td>\n",
       "      <td>0.0</td>\n",
       "    </tr>\n",
       "    <tr>\n",
       "      <th>...</th>\n",
       "      <td>...</td>\n",
       "      <td>...</td>\n",
       "      <td>...</td>\n",
       "      <td>...</td>\n",
       "      <td>...</td>\n",
       "      <td>...</td>\n",
       "      <td>...</td>\n",
       "      <td>...</td>\n",
       "      <td>...</td>\n",
       "    </tr>\n",
       "    <tr>\n",
       "      <th>714</th>\n",
       "      <td>23</td>\n",
       "      <td>6589</td>\n",
       "      <td>-1.2</td>\n",
       "      <td>50.51</td>\n",
       "      <td>Clear</td>\n",
       "      <td>Weekday</td>\n",
       "      <td>0.182322</td>\n",
       "      <td>0.0</td>\n",
       "      <td>0.0</td>\n",
       "    </tr>\n",
       "    <tr>\n",
       "      <th>715</th>\n",
       "      <td>11</td>\n",
       "      <td>5558</td>\n",
       "      <td>3.3</td>\n",
       "      <td>47.85</td>\n",
       "      <td>Overcast</td>\n",
       "      <td>Weekday</td>\n",
       "      <td>1.987874</td>\n",
       "      <td>0.0</td>\n",
       "      <td>2.0</td>\n",
       "    </tr>\n",
       "    <tr>\n",
       "      <th>716</th>\n",
       "      <td>10</td>\n",
       "      <td>5087</td>\n",
       "      <td>4.9</td>\n",
       "      <td>50.73</td>\n",
       "      <td>Clear</td>\n",
       "      <td>Weekday</td>\n",
       "      <td>2.332144</td>\n",
       "      <td>0.0</td>\n",
       "      <td>0.0</td>\n",
       "    </tr>\n",
       "    <tr>\n",
       "      <th>717</th>\n",
       "      <td>3</td>\n",
       "      <td>478</td>\n",
       "      <td>2.9</td>\n",
       "      <td>71.51</td>\n",
       "      <td>Clear</td>\n",
       "      <td>Weekday</td>\n",
       "      <td>2.116256</td>\n",
       "      <td>0.0</td>\n",
       "      <td>0.0</td>\n",
       "    </tr>\n",
       "    <tr>\n",
       "      <th>718</th>\n",
       "      <td>6</td>\n",
       "      <td>3095</td>\n",
       "      <td>6.7</td>\n",
       "      <td>93.03</td>\n",
       "      <td>Rain, Overcast</td>\n",
       "      <td>Weekday</td>\n",
       "      <td>3.349904</td>\n",
       "      <td>0.0</td>\n",
       "      <td>4.0</td>\n",
       "    </tr>\n",
       "  </tbody>\n",
       "</table>\n",
       "<p>719 rows × 9 columns</p>\n",
       "</div>"
      ],
      "text/plain": [
       "     hour  trip_count  temp  humidity        conditions day_of_the_week  \\\n",
       "0      11        5540   0.5     84.41  Partially cloudy         Weekday   \n",
       "1      12        5630   4.9     34.59  Partially cloudy         Weekend   \n",
       "2      21        5834   6.7     30.48             Clear         Weekend   \n",
       "3      17        6589   7.8     41.32             Clear         Weekday   \n",
       "4       7        1321   2.8     65.80             Clear         Weekend   \n",
       "..    ...         ...   ...       ...               ...             ...   \n",
       "714    23        6589  -1.2     50.51             Clear         Weekday   \n",
       "715    11        5558   3.3     47.85          Overcast         Weekday   \n",
       "716    10        5087   4.9     50.73             Clear         Weekday   \n",
       "717     3         478   2.9     71.51             Clear         Weekday   \n",
       "718     6        3095   6.7     93.03    Rain, Overcast         Weekday   \n",
       "\n",
       "     log(windspeed)  day_of_the_week_index  conditions_index  \n",
       "0          2.965273                    0.0               1.0  \n",
       "1          2.660260                    1.0               1.0  \n",
       "2          2.186051                    1.0               0.0  \n",
       "3          2.332144                    0.0               0.0  \n",
       "4          0.262364                    1.0               0.0  \n",
       "..              ...                    ...               ...  \n",
       "714        0.182322                    0.0               0.0  \n",
       "715        1.987874                    0.0               2.0  \n",
       "716        2.332144                    0.0               0.0  \n",
       "717        2.116256                    0.0               0.0  \n",
       "718        3.349904                    0.0               4.0  \n",
       "\n",
       "[719 rows x 9 columns]"
      ]
     },
     "execution_count": 19,
     "metadata": {},
     "output_type": "execute_result"
    }
   ],
   "source": [
    "test_data_pandas"
   ]
  },
  {
   "cell_type": "code",
   "execution_count": 20,
   "id": "b93ba4b5-86c9-4e0f-b565-04fc8ed185ba",
   "metadata": {},
   "outputs": [],
   "source": [
    "# Prepare the features and target\n",
    "feature_columns = [\"day_of_the_week_index\", \"conditions_index\", \"hour\", \"temp\", \"log(windspeed)\", \"humidity\"]\n",
    "X_train = train_data_pandas[feature_columns]\n",
    "y_train = train_data_pandas[\"trip_count\"]\n",
    "X_test = test_data_pandas[feature_columns]\n",
    "y_test = test_data_pandas[\"trip_count\"]\n"
   ]
  },
  {
   "cell_type": "code",
   "execution_count": 21,
   "id": "a6966a97-8236-4903-8574-0b82d0b9c8c2",
   "metadata": {},
   "outputs": [],
   "source": [
    "# Create a KNeighborsRegressor model\n",
    "knn = KNeighborsRegressor(n_neighbors=5)\n",
    "\n",
    "# Fit the model to the training data\n",
    "knn.fit(X_train, y_train)\n",
    "\n",
    "# Make predictions on the test data\n",
    "knn_test_predictions = knn.predict(X_test)\n",
    "\n",
    "# save to result dataframe\n",
    "result[\"k(5)nn regression prediction\"] =knn_test_predictions\n"
   ]
  },
  {
   "cell_type": "code",
   "execution_count": null,
   "id": "01db6165-9520-4614-b5b5-a3e5eb886347",
   "metadata": {},
   "outputs": [],
   "source": []
  },
  {
   "cell_type": "code",
   "execution_count": 22,
   "id": "c653f060-a52d-4f4f-8900-1fbd63ec4f4b",
   "metadata": {},
   "outputs": [],
   "source": [
    "average_result = result.groupby(\"hour\").agg(\n",
    "    actual_average_taxi_demand=pd.NamedAgg(column=\"trip_count\", aggfunc=\"mean\"),\n",
    "    average_lr_prediction=pd.NamedAgg(column=\"linear regression prediction\", aggfunc=\"mean\"),\n",
    "    average_rf_prediciton=pd.NamedAgg(column=\"rf regression prediction\", aggfunc=\"mean\"),\n",
    "    average_k5nn_prediction=pd.NamedAgg(column=\"k(5)nn regression prediction\", aggfunc = 'mean')\n",
    ").reset_index()\n"
   ]
  },
  {
   "cell_type": "code",
   "execution_count": 23,
   "id": "bdeeef4c-f0d2-42f4-8942-e9b4b70a68ad",
   "metadata": {},
   "outputs": [],
   "source": [
    "# Convert Pandas Series to Numpy arrays for indexing\n",
    "hour_values = average_result[\"hour\"].values\n",
    "actual_average_demand = average_result[\"actual_average_taxi_demand\"].values\n",
    "average_ls_pred = average_result[\"average_lr_prediction\"].values\n",
    "average_rf_pred = average_result[\"average_rf_prediciton\"].values\n",
    "average_k5nn_pred = average_result[\"average_k5nn_prediction\"].values\n"
   ]
  },
  {
   "cell_type": "code",
   "execution_count": 24,
   "id": "d9cca214-91e0-4484-aa58-e2d46c7a6da0",
   "metadata": {},
   "outputs": [
    {
     "data": {
      "image/png": "[encoded data removed]",
      "text/plain": [
       "<Figure size 1008x576 with 1 Axes>"
      ]
     },
     "metadata": {
      "needs_background": "light"
     },
     "output_type": "display_data"
    }
   ],
   "source": [
    "# Plot the actual and predicted trip counts\n",
    "plt.figure(figsize=(14, 8))\n",
    "plt.plot(hour_values, actual_average_demand, label=\"Actual Trip Count\")\n",
    "plt.plot(hour_values, average_ls_pred, label=\"ls prediction\", linestyle=\"--\")\n",
    "plt.plot(hour_values, average_rf_pred, label=\"rf prediciton\", linestyle=\"--\")\n",
    "plt.plot(hour_values, average_k5nn_pred, label=\"k5nn prediciton\", linestyle=\"--\")\n",
    "plt.xlabel(\"Hour\",fontsize=15)\n",
    "plt.ylabel(\"Trip Count\",fontsize=15)\n",
    "plt.title(\"Actual vs. Predicted Trip Count\",fontsize=17)\n",
    "plt.xticks(fontsize=14)  # Adjust fontsize as needed\n",
    "plt.yticks(fontsize=14)  # Adjust fontsize as needed\n",
    "plt.legend(fontsize='xx-large')\n",
    "plt.grid(True)\n",
    "# Save the plot to an image file\n",
    "output_image_path = \"../plots/predition.png\"\n",
    "plt.savefig(output_image_path)\n",
    "\n",
    "plt.show()\n"
   ]
  },
  {
   "cell_type": "code",
   "execution_count": null,
   "id": "211ba21f-1301-41cd-8c9f-2a6670cc2a39",
   "metadata": {},
   "outputs": [],
   "source": []
  },
  {
   "cell_type": "markdown",
   "id": "789bef85-8997-4817-be07-7e6dc648e743",
   "metadata": {},
   "source": [
    "Notice there is significant data different in number of taxi data per month\n",
    "Our taining data consist of 35960309 number of trip records, which approximate 5993384 records per month \n",
    "where as our test data only contain taxi record in march of 2019 with 3443252 records per month. \n",
    "\n",
    "below we will repeat modelling with a sampled training data. \n",
    "to do this we will randomly sample two third of data from taxi data as our training data"
   ]
  },
  {
   "cell_type": "code",
   "execution_count": 25,
   "id": "f0b09de0-94d3-4024-b7e7-e0da6557dfb3",
   "metadata": {},
   "outputs": [
    {
     "name": "stderr",
     "output_type": "stream",
     "text": [
      "                                                                                \r"
     ]
    },
    {
     "data": {
      "text/plain": [
       "22033774"
      ]
     },
     "execution_count": 25,
     "metadata": {},
     "output_type": "execute_result"
    }
   ],
   "source": [
    "sampled_taxi = taxi_sdf.sample(fraction=0.66, seed=1)  # Using a seed for reproducibility\n",
    "sampled_taxi.count()"
   ]
  },
  {
   "cell_type": "code",
   "execution_count": 26,
   "id": "4d63c93a-c1bd-499b-bd2e-6cb150d06faf",
   "metadata": {},
   "outputs": [],
   "source": [
    "# Group by the hour of the day and calculate the average trip duration and tip amount\n",
    "gb_sampled_taxi = sampled_taxi.groupBy('pickup_day',\"hour\").agg(\n",
    "    F.count(\"*\").alias(\"trip_count\"),\n",
    ")"
   ]
  },
  {
   "cell_type": "code",
   "execution_count": 27,
   "id": "13847333-d816-404d-8ba3-694d0a159ad5",
   "metadata": {},
   "outputs": [],
   "source": [
    "# Join the taxi and weather data, based on date and hour time \n",
    "full_sdf = gb_sampled_taxi.join(weather_sdf, (gb_taxi[\"pickup_day\"] == weather_sdf[\"date\"]) & (gb_taxi[\"hour\"] == weather_sdf[\"hour_of_the_day\"]), \"inner\")\n",
    "\n",
    "# transform the windspeed with natural log\n",
    "full_sdf = full_sdf.withColumn('log(windspeed)', log(full_sdf['windspeed']+1)) # add 1 to aviod zero windspeed\n",
    "\n",
    "# Drop irrelevant feature to form our traning data \n",
    "train = full_sdf.drop(\"pickup_day\", \"hour_of_the_day\", 'snow', 'feelslike', 'sealevelpressure', 'date' ,'windspeed', 'cloudcover')\n"
   ]
  },
  {
   "cell_type": "markdown",
   "id": "06e2d1cf-c1b4-4049-b474-6fba924acdd6",
   "metadata": {},
   "source": [
    "We don't have to do extra filtering for test data "
   ]
  },
  {
   "cell_type": "code",
   "execution_count": 28,
   "id": "51e6c0ae-0397-4efa-9de2-5d3e0f77fc40",
   "metadata": {},
   "outputs": [],
   "source": [
    "test = spark.read.parquet('../data/curated/test_data/*')"
   ]
  },
  {
   "cell_type": "markdown",
   "id": "66501a9b-5b7b-4033-8f12-87b7372170de",
   "metadata": {},
   "source": [
    "# model with new training data"
   ]
  },
  {
   "cell_type": "code",
   "execution_count": 29,
   "id": "f63a6e9d-53dc-430b-9f27-7cbac1026a91",
   "metadata": {},
   "outputs": [],
   "source": [
    "train_data = train\n",
    "test_data = test"
   ]
  },
  {
   "cell_type": "code",
   "execution_count": 30,
   "id": "5093ab54-8ae5-44ec-8f62-ffb3ecd5fef6",
   "metadata": {},
   "outputs": [
    {
     "name": "stderr",
     "output_type": "stream",
     "text": [
      "                                                                                \r"
     ]
    }
   ],
   "source": [
    "# categorical data to be index\n",
    "categorical_features = [\"day_of_the_week\", \"conditions\"]\n",
    "\n",
    "# Apply string indexing to categorical features\n",
    "indexers = [StringIndexer(inputCol=feature, outputCol=f\"{feature}_index\") for feature in categorical_features]\n",
    "\n",
    "train_indexed_data = train_data\n",
    "test_indexed_data = test_data\n",
    "\n",
    "for indexer in indexers:\n",
    "    train_indexed_data = indexer.fit(train_indexed_data).transform(train_indexed_data)\n",
    "    test_indexed_data = indexer.fit(test_indexed_data).transform(test_indexed_data)\n",
    "\n",
    "\n",
    "# Assemble features into a vector column\n",
    "feature_columns = [\"day_of_the_week_index\", \"conditions_index\", \"hour\", \"temp\", \"log(windspeed)\", \"humidity\"]\n",
    "assembler = VectorAssembler(inputCols=feature_columns, outputCol=\"features\")\n",
    "\n",
    "train_data_with_features = assembler.transform(train_indexed_data)\n",
    "test_data_with_features = assembler.transform(test_indexed_data)"
   ]
  },
  {
   "cell_type": "code",
   "execution_count": 31,
   "id": "22dfd6be-51c4-459a-8e9a-027c61a1eeeb",
   "metadata": {},
   "outputs": [],
   "source": [
    "result = test_data.select(\"hour\", \"trip_count\").toPandas()"
   ]
  },
  {
   "cell_type": "markdown",
   "id": "dc2953a0-2141-4a36-8c93-4c468666b257",
   "metadata": {},
   "source": [
    "### Linear regression "
   ]
  },
  {
   "cell_type": "code",
   "execution_count": 32,
   "id": "b884774c-1857-402f-a2ea-87ccd6c41831",
   "metadata": {},
   "outputs": [
    {
     "name": "stderr",
     "output_type": "stream",
     "text": [
      "23/08/20 19:36:38 WARN Instrumentation: [a28f5ad4] regParam is zero, which might cause numerical instability and overfitting.\n",
      "                                                                                \r"
     ]
    }
   ],
   "source": [
    "# Create a LinearRegression model\n",
    "lr = LinearRegression(featuresCol=\"features\", labelCol=\"trip_count\")\n",
    "\n",
    "# Fit the model to the training data\n",
    "lr_model = lr.fit(train_data_with_features)\n",
    "\n",
    "# Make predictions on the test data \n",
    "test_predictions = lr_model.transform(test_data_with_features)\n",
    "\n",
    "# save the prediction to the result dataframe\n",
    "result[\"linear regression prediction\"] =test_predictions.select(\"prediction\").toPandas()\n"
   ]
  },
  {
   "cell_type": "markdown",
   "id": "dd76f3fa-0b8f-47f2-ab1a-258fc15b72e6",
   "metadata": {},
   "source": [
    "### random forest regression "
   ]
  },
  {
   "cell_type": "code",
   "execution_count": 33,
   "id": "6b990e8b-f02b-4530-9017-7007d66fdcac",
   "metadata": {},
   "outputs": [
    {
     "name": "stderr",
     "output_type": "stream",
     "text": [
      "                                                                                \r"
     ]
    }
   ],
   "source": [
    "# Create a RandomForestRegressor model\n",
    "rf = RandomForestRegressor(featuresCol=\"features\", labelCol=\"trip_count\")\n",
    "\n",
    "# Fit the model to the training data\n",
    "rf_model = rf.fit(train_data_with_features)\n",
    "\n",
    "# Make predictions on the test data\n",
    "test_predictions = rf_model.transform(test_data_with_features)\n",
    "\n",
    "# save the prediction to the result dataframe\n",
    "result[\"rf regression prediction\"] =test_predictions.select(\"prediction\").toPandas()\n"
   ]
  },
  {
   "cell_type": "markdown",
   "id": "e770c9c8-f632-4355-bbc8-182015dcac47",
   "metadata": {},
   "source": [
    "### KNN"
   ]
  },
  {
   "cell_type": "code",
   "execution_count": 34,
   "id": "4e0c57bb-9b86-4b3c-b8a5-25dbb842f735",
   "metadata": {},
   "outputs": [
    {
     "name": "stderr",
     "output_type": "stream",
     "text": [
      "                                                                                \r"
     ]
    }
   ],
   "source": [
    "# Convert the indexed train and test data to Pandas DataFrames\n",
    "train_data_pandas = train_indexed_data.toPandas()\n",
    "test_data_pandas = test_indexed_data.toPandas()"
   ]
  },
  {
   "cell_type": "code",
   "execution_count": 35,
   "id": "74ab7894-c663-4ff6-9a76-7cbead66fd1b",
   "metadata": {},
   "outputs": [],
   "source": [
    "# Prepare the features and target\n",
    "feature_columns = [\"day_of_the_week_index\", \"conditions_index\", \"hour\", \"temp\", \"log(windspeed)\", \"humidity\"]\n",
    "X_train = train_data_pandas[feature_columns]\n",
    "y_train = train_data_pandas[\"trip_count\"]\n",
    "X_test = test_data_pandas[feature_columns]\n",
    "y_test = test_data_pandas[\"trip_count\"]\n"
   ]
  },
  {
   "cell_type": "code",
   "execution_count": 36,
   "id": "70a53310-cedf-469d-8cdb-1159c5b780a1",
   "metadata": {},
   "outputs": [],
   "source": [
    "# Create a KNeighborsRegressor model\n",
    "knn = KNeighborsRegressor(n_neighbors=5)\n",
    "\n",
    "# Fit the model to the training data\n",
    "knn.fit(X_train, y_train)\n",
    "\n",
    "# Make predictions on the test data\n",
    "knn_test_predictions = knn.predict(X_test)\n",
    "\n",
    "# save to result dataframe\n",
    "result[\"k(5)nn regression prediction\"] =knn_test_predictions\n"
   ]
  },
  {
   "cell_type": "code",
   "execution_count": 37,
   "id": "9c910595-9364-42e2-a17d-713da3993715",
   "metadata": {},
   "outputs": [],
   "source": [
    "average_result = result.groupby(\"hour\").agg(\n",
    "    actual_average_taxi_demand=pd.NamedAgg(column=\"trip_count\", aggfunc=\"mean\"),\n",
    "    average_lr_prediction=pd.NamedAgg(column=\"linear regression prediction\", aggfunc=\"mean\"),\n",
    "    average_rf_prediciton=pd.NamedAgg(column=\"rf regression prediction\", aggfunc=\"mean\"),\n",
    "    average_k5nn_prediction=pd.NamedAgg(column=\"k(5)nn regression prediction\", aggfunc = 'mean')\n",
    ").reset_index()\n"
   ]
  },
  {
   "cell_type": "code",
   "execution_count": 38,
   "id": "ef3f8dac-6a65-49a6-ba26-c3a9292f0807",
   "metadata": {},
   "outputs": [],
   "source": [
    "# Convert Pandas Series to Numpy arrays for indexing\n",
    "hour_values = average_result[\"hour\"].values\n",
    "actual_average_demand = average_result[\"actual_average_taxi_demand\"].values\n",
    "average_ls_pred = average_result[\"average_lr_prediction\"].values\n",
    "average_rf_pred = average_result[\"average_rf_prediciton\"].values\n",
    "average_k5nn_pred = average_result[\"average_k5nn_prediction\"].values\n"
   ]
  },
  {
   "cell_type": "code",
   "execution_count": 39,
   "id": "b6061411-b4ad-4fb4-8b2a-50c112818ff7",
   "metadata": {},
   "outputs": [
    {
     "data": {
      "image/png": "[encoded data removed]",
      "text/plain": [
       "<Figure size 1008x576 with 1 Axes>"
      ]
     },
     "metadata": {
      "needs_background": "light"
     },
     "output_type": "display_data"
    }
   ],
   "source": [
    "# Plot the actual and predicted trip counts\n",
    "plt.figure(figsize=(14, 8))\n",
    "plt.plot(hour_values, actual_average_demand, label=\"Actual Trip Count\")\n",
    "plt.plot(hour_values, average_ls_pred, label=\"ls prediction\", linestyle=\"--\")\n",
    "plt.plot(hour_values, average_rf_pred, label=\"rf prediciton\", linestyle=\"--\")\n",
    "plt.plot(hour_values, average_k5nn_pred, label=\"k5nn prediciton\", linestyle=\"--\")\n",
    "plt.xlabel(\"Hour\", fontsize=15)\n",
    "plt.ylabel(\"Trip Count\", fontsize=15)\n",
    "plt.title(\"Actual vs. Predicted Trip Count With Adjusted training data size\", fontsize=17)\n",
    "plt.xticks(fontsize=14)  # Adjust fontsize as needed\n",
    "\n",
    "plt.yticks(fontsize=14)  # Adjust fontsize as needed\n",
    "\n",
    "plt.legend(fontsize='xx-large')\n",
    "plt.grid(True)\n",
    "# Save the plot to an image file\n",
    "output_image_path = \"../plots/predition_with_adjusted_data_size.png\"\n",
    "plt.savefig(output_image_path)\n",
    "plt.show()\n"
   ]
  },
  {
   "cell_type": "code",
   "execution_count": 40,
   "id": "dd795ddf-24af-432d-a7b3-7fbc13eccfb3",
   "metadata": {
    "scrolled": true
   },
   "outputs": [
    {
     "data": {
      "text/html": [
       "<div>\n",
       "<style scoped>\n",
       "    .dataframe tbody tr th:only-of-type {\n",
       "        vertical-align: middle;\n",
       "    }\n",
       "\n",
       "    .dataframe tbody tr th {\n",
       "        vertical-align: top;\n",
       "    }\n",
       "\n",
       "    .dataframe thead th {\n",
       "        text-align: right;\n",
       "    }\n",
       "</style>\n",
       "<table border=\"1\" class=\"dataframe\">\n",
       "  <thead>\n",
       "    <tr style=\"text-align: right;\">\n",
       "      <th></th>\n",
       "      <th>hour</th>\n",
       "      <th>actual_average_taxi_demand</th>\n",
       "      <th>average_lr_prediction</th>\n",
       "      <th>average_rf_prediciton</th>\n",
       "      <th>average_k5nn_prediction</th>\n",
       "    </tr>\n",
       "  </thead>\n",
       "  <tbody>\n",
       "    <tr>\n",
       "      <th>19</th>\n",
       "      <td>19</td>\n",
       "      <td>7424.733333</td>\n",
       "      <td>6926.695393</td>\n",
       "      <td>6687.107780</td>\n",
       "      <td>7904.060000</td>\n",
       "    </tr>\n",
       "    <tr>\n",
       "      <th>20</th>\n",
       "      <td>20</td>\n",
       "      <td>6988.666667</td>\n",
       "      <td>7113.860120</td>\n",
       "      <td>6591.113470</td>\n",
       "      <td>7491.340000</td>\n",
       "    </tr>\n",
       "    <tr>\n",
       "      <th>18</th>\n",
       "      <td>18</td>\n",
       "      <td>7674.266667</td>\n",
       "      <td>6814.631748</td>\n",
       "      <td>6766.647300</td>\n",
       "      <td>7443.013333</td>\n",
       "    </tr>\n",
       "    <tr>\n",
       "      <th>21</th>\n",
       "      <td>21</td>\n",
       "      <td>6981.800000</td>\n",
       "      <td>7307.123946</td>\n",
       "      <td>6560.188558</td>\n",
       "      <td>7355.100000</td>\n",
       "    </tr>\n",
       "    <tr>\n",
       "      <th>17</th>\n",
       "      <td>17</td>\n",
       "      <td>6581.066667</td>\n",
       "      <td>6628.278507</td>\n",
       "      <td>6762.992208</td>\n",
       "      <td>7137.306667</td>\n",
       "    </tr>\n",
       "    <tr>\n",
       "      <th>16</th>\n",
       "      <td>16</td>\n",
       "      <td>5447.800000</td>\n",
       "      <td>6440.298419</td>\n",
       "      <td>6073.236518</td>\n",
       "      <td>6667.946667</td>\n",
       "    </tr>\n",
       "    <tr>\n",
       "      <th>22</th>\n",
       "      <td>22</td>\n",
       "      <td>6669.366667</td>\n",
       "      <td>7526.312525</td>\n",
       "      <td>6565.147461</td>\n",
       "      <td>6596.406667</td>\n",
       "    </tr>\n",
       "    <tr>\n",
       "      <th>14</th>\n",
       "      <td>14</td>\n",
       "      <td>5806.100000</td>\n",
       "      <td>5916.392680</td>\n",
       "      <td>6081.379708</td>\n",
       "      <td>6342.973333</td>\n",
       "    </tr>\n",
       "    <tr>\n",
       "      <th>15</th>\n",
       "      <td>15</td>\n",
       "      <td>5813.700000</td>\n",
       "      <td>6214.755553</td>\n",
       "      <td>6105.355630</td>\n",
       "      <td>6337.546667</td>\n",
       "    </tr>\n",
       "    <tr>\n",
       "      <th>9</th>\n",
       "      <td>9</td>\n",
       "      <td>5545.100000</td>\n",
       "      <td>4458.188284</td>\n",
       "      <td>5822.916749</td>\n",
       "      <td>6198.066667</td>\n",
       "    </tr>\n",
       "    <tr>\n",
       "      <th>13</th>\n",
       "      <td>13</td>\n",
       "      <td>5532.233333</td>\n",
       "      <td>5711.780167</td>\n",
       "      <td>6051.067983</td>\n",
       "      <td>6160.740000</td>\n",
       "    </tr>\n",
       "    <tr>\n",
       "      <th>23</th>\n",
       "      <td>23</td>\n",
       "      <td>5303.333333</td>\n",
       "      <td>7755.261869</td>\n",
       "      <td>6139.123062</td>\n",
       "      <td>6135.413333</td>\n",
       "    </tr>\n",
       "    <tr>\n",
       "      <th>12</th>\n",
       "      <td>12</td>\n",
       "      <td>5566.333333</td>\n",
       "      <td>5393.424747</td>\n",
       "      <td>6048.777984</td>\n",
       "      <td>6128.866667</td>\n",
       "    </tr>\n",
       "    <tr>\n",
       "      <th>10</th>\n",
       "      <td>10</td>\n",
       "      <td>5249.200000</td>\n",
       "      <td>4780.762646</td>\n",
       "      <td>5994.164781</td>\n",
       "      <td>6093.553333</td>\n",
       "    </tr>\n",
       "    <tr>\n",
       "      <th>11</th>\n",
       "      <td>11</td>\n",
       "      <td>5309.400000</td>\n",
       "      <td>5031.530655</td>\n",
       "      <td>6010.174201</td>\n",
       "      <td>5888.866667</td>\n",
       "    </tr>\n",
       "    <tr>\n",
       "      <th>8</th>\n",
       "      <td>8</td>\n",
       "      <td>5678.633333</td>\n",
       "      <td>4172.397557</td>\n",
       "      <td>5807.805502</td>\n",
       "      <td>5456.046667</td>\n",
       "    </tr>\n",
       "    <tr>\n",
       "      <th>7</th>\n",
       "      <td>7</td>\n",
       "      <td>4371.900000</td>\n",
       "      <td>3851.840810</td>\n",
       "      <td>5486.737747</td>\n",
       "      <td>4807.993333</td>\n",
       "    </tr>\n",
       "    <tr>\n",
       "      <th>0</th>\n",
       "      <td>0</td>\n",
       "      <td>3710.300000</td>\n",
       "      <td>2253.870276</td>\n",
       "      <td>2987.777959</td>\n",
       "      <td>3089.760000</td>\n",
       "    </tr>\n",
       "    <tr>\n",
       "      <th>6</th>\n",
       "      <td>6</td>\n",
       "      <td>2271.233333</td>\n",
       "      <td>3651.967908</td>\n",
       "      <td>2551.826592</td>\n",
       "      <td>2714.460000</td>\n",
       "    </tr>\n",
       "    <tr>\n",
       "      <th>1</th>\n",
       "      <td>1</td>\n",
       "      <td>2460.566667</td>\n",
       "      <td>2539.019787</td>\n",
       "      <td>2796.667081</td>\n",
       "      <td>2706.000000</td>\n",
       "    </tr>\n",
       "    <tr>\n",
       "      <th>2</th>\n",
       "      <td>2</td>\n",
       "      <td>1584.068966</td>\n",
       "      <td>2733.609994</td>\n",
       "      <td>2455.092786</td>\n",
       "      <td>2061.600000</td>\n",
       "    </tr>\n",
       "    <tr>\n",
       "      <th>5</th>\n",
       "      <td>5</td>\n",
       "      <td>891.766667</td>\n",
       "      <td>3422.597036</td>\n",
       "      <td>2162.900697</td>\n",
       "      <td>1786.560000</td>\n",
       "    </tr>\n",
       "    <tr>\n",
       "      <th>4</th>\n",
       "      <td>4</td>\n",
       "      <td>790.766667</td>\n",
       "      <td>3187.089175</td>\n",
       "      <td>2189.505113</td>\n",
       "      <td>1477.773333</td>\n",
       "    </tr>\n",
       "    <tr>\n",
       "      <th>3</th>\n",
       "      <td>3</td>\n",
       "      <td>1175.533333</td>\n",
       "      <td>3007.378758</td>\n",
       "      <td>2294.301815</td>\n",
       "      <td>1463.713333</td>\n",
       "    </tr>\n",
       "  </tbody>\n",
       "</table>\n",
       "</div>"
      ],
      "text/plain": [
       "    hour  actual_average_taxi_demand  average_lr_prediction  \\\n",
       "19    19                 7424.733333            6926.695393   \n",
       "20    20                 6988.666667            7113.860120   \n",
       "18    18                 7674.266667            6814.631748   \n",
       "21    21                 6981.800000            7307.123946   \n",
       "17    17                 6581.066667            6628.278507   \n",
       "16    16                 5447.800000            6440.298419   \n",
       "22    22                 6669.366667            7526.312525   \n",
       "14    14                 5806.100000            5916.392680   \n",
       "15    15                 5813.700000            6214.755553   \n",
       "9      9                 5545.100000            4458.188284   \n",
       "13    13                 5532.233333            5711.780167   \n",
       "23    23                 5303.333333            7755.261869   \n",
       "12    12                 5566.333333            5393.424747   \n",
       "10    10                 5249.200000            4780.762646   \n",
       "11    11                 5309.400000            5031.530655   \n",
       "8      8                 5678.633333            4172.397557   \n",
       "7      7                 4371.900000            3851.840810   \n",
       "0      0                 3710.300000            2253.870276   \n",
       "6      6                 2271.233333            3651.967908   \n",
       "1      1                 2460.566667            2539.019787   \n",
       "2      2                 1584.068966            2733.609994   \n",
       "5      5                  891.766667            3422.597036   \n",
       "4      4                  790.766667            3187.089175   \n",
       "3      3                 1175.533333            3007.378758   \n",
       "\n",
       "    average_rf_prediciton  average_k5nn_prediction  \n",
       "19            6687.107780              7904.060000  \n",
       "20            6591.113470              7491.340000  \n",
       "18            6766.647300              7443.013333  \n",
       "21            6560.188558              7355.100000  \n",
       "17            6762.992208              7137.306667  \n",
       "16            6073.236518              6667.946667  \n",
       "22            6565.147461              6596.406667  \n",
       "14            6081.379708              6342.973333  \n",
       "15            6105.355630              6337.546667  \n",
       "9             5822.916749              6198.066667  \n",
       "13            6051.067983              6160.740000  \n",
       "23            6139.123062              6135.413333  \n",
       "12            6048.777984              6128.866667  \n",
       "10            5994.164781              6093.553333  \n",
       "11            6010.174201              5888.866667  \n",
       "8             5807.805502              5456.046667  \n",
       "7             5486.737747              4807.993333  \n",
       "0             2987.777959              3089.760000  \n",
       "6             2551.826592              2714.460000  \n",
       "1             2796.667081              2706.000000  \n",
       "2             2455.092786              2061.600000  \n",
       "5             2162.900697              1786.560000  \n",
       "4             2189.505113              1477.773333  \n",
       "3             2294.301815              1463.713333  "
      ]
     },
     "execution_count": 40,
     "metadata": {},
     "output_type": "execute_result"
    }
   ],
   "source": [
    "average_result.sort_values(by=\"average_k5nn_prediction\", ascending=False)\n"
   ]
  },
  {
   "cell_type": "code",
   "execution_count": 41,
   "id": "63c91b00-0607-4c66-b227-1718dc4ac20b",
   "metadata": {},
   "outputs": [
    {
     "data": {
      "text/html": [
       "<div>\n",
       "<style scoped>\n",
       "    .dataframe tbody tr th:only-of-type {\n",
       "        vertical-align: middle;\n",
       "    }\n",
       "\n",
       "    .dataframe tbody tr th {\n",
       "        vertical-align: top;\n",
       "    }\n",
       "\n",
       "    .dataframe thead th {\n",
       "        text-align: right;\n",
       "    }\n",
       "</style>\n",
       "<table border=\"1\" class=\"dataframe\">\n",
       "  <thead>\n",
       "    <tr style=\"text-align: right;\">\n",
       "      <th></th>\n",
       "      <th>Model</th>\n",
       "      <th>RMSE</th>\n",
       "    </tr>\n",
       "  </thead>\n",
       "  <tbody>\n",
       "    <tr>\n",
       "      <th>0</th>\n",
       "      <td>Linear Regression</td>\n",
       "      <td>1189.412069</td>\n",
       "    </tr>\n",
       "    <tr>\n",
       "      <th>1</th>\n",
       "      <td>Random Forest</td>\n",
       "      <td>712.367692</td>\n",
       "    </tr>\n",
       "    <tr>\n",
       "      <th>2</th>\n",
       "      <td>KNN</td>\n",
       "      <td>591.096980</td>\n",
       "    </tr>\n",
       "  </tbody>\n",
       "</table>\n",
       "</div>"
      ],
      "text/plain": [
       "               Model         RMSE\n",
       "0  Linear Regression  1189.412069\n",
       "1      Random Forest   712.367692\n",
       "2                KNN   591.096980"
      ]
     },
     "metadata": {},
     "output_type": "display_data"
    }
   ],
   "source": [
    "linear_regression_rmse = mean_squared_error(average_result[\"actual_average_taxi_demand\"], average_result[\"average_lr_prediction\"], squared=False)\n",
    "random_forest_rmse = mean_squared_error(average_result[\"actual_average_taxi_demand\"], average_result[\"average_rf_prediciton\"], squared=False)\n",
    "knn_rmse = mean_squared_error(average_result[\"actual_average_taxi_demand\"], average_result[\"average_k5nn_prediction\"], squared=False)\n",
    "\n",
    "\n",
    "# Create a pandas DataFrame for the RMSE values\n",
    "rmse_data = {\n",
    "    \"Model\": [\"Linear Regression\", \"Random Forest\", \"KNN\"],\n",
    "    \"RMSE\": [linear_regression_rmse, random_forest_rmse, knn_rmse]\n",
    "}\n",
    "rmse_df = pd.DataFrame(rmse_data)\n",
    "\n",
    "# Print the DataFrame as a table\n",
    "display(rmse_df)"
   ]
  },
  {
   "cell_type": "code",
   "execution_count": null,
   "id": "e81695f3-3510-442f-8b10-947a7fafdaee",
   "metadata": {},
   "outputs": [],
   "source": []
  }
 ],
 "metadata": {
  "kernelspec": {
   "display_name": "Python 3 (ipykernel)",
   "language": "python",
   "name": "python3"
  },
  "language_info": {
   "codemirror_mode": {
    "name": "ipython",
    "version": 3
   },
   "file_extension": ".py",
   "mimetype": "text/x-python",
   "name": "python",
   "nbconvert_exporter": "python",
   "pygments_lexer": "ipython3",
   "version": "3.10.6"
  }
 },
 "nbformat": 4,
 "nbformat_minor": 5
}
