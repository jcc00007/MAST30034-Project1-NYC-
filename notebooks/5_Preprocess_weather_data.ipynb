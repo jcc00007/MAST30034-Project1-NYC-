{
 "cells": [
  {
   "cell_type": "markdown",
   "id": "8b9a27ca-86e8-47b1-994c-0634f0380e8e",
   "metadata": {},
   "source": [
    "# Preprocess the daily weather data"
   ]
  },
  {
   "cell_type": "code",
   "execution_count": 1,
   "id": "a8116b95-f7d0-4fcb-ac7c-c95b214dacb2",
   "metadata": {},
   "outputs": [],
   "source": [
    "import pandas as pd\n",
    "from pyspark.sql import SparkSession\n",
    "import pyspark.sql.functions as F\n",
    "import os\n",
    "from pyspark.sql.functions import col, unix_timestamp, date_format, when, expr, round, hour\n",
    "from datetime import datetime\n",
    "import warnings\n",
    "warnings.filterwarnings('ignore')\n"
   ]
  },
  {
   "cell_type": "code",
   "execution_count": 2,
   "id": "3a2fdb70-d55f-4f6e-ad6e-4eda962320df",
   "metadata": {},
   "outputs": [
    {
     "name": "stderr",
     "output_type": "stream",
     "text": [
      "23/08/20 17:56:16 WARN Utils: Your hostname, LAPTOP-D9335T9D resolves to a loopback address: 127.0.1.1; using 192.168.0.77 instead (on interface wifi0)\n",
      "23/08/20 17:56:16 WARN Utils: Set SPARK_LOCAL_IP if you need to bind to another address\n",
      "Setting default log level to \"WARN\".\n",
      "To adjust logging level use sc.setLogLevel(newLevel). For SparkR, use setLogLevel(newLevel).\n",
      "23/08/20 17:56:16 WARN NativeCodeLoader: Unable to load native-hadoop library for your platform... using builtin-java classes where applicable\n"
     ]
    }
   ],
   "source": [
    "# Create a spark session (which will run spark jobs)\n",
    "spark = (\n",
    "    SparkSession.builder.appName(\"MAST30034 \")\n",
    "    .config(\"spark.sql.repl.eagerEval.enabled\", True) \n",
    "    .config(\"spark.sql.parquet.cacheMetadata\", \"true\")\n",
    "    .config(\"spark.sql.session.timeZone\", \"Etc/UTC\")\n",
    "    .getOrCreate()\n",
    ")"
   ]
  },
  {
   "cell_type": "markdown",
   "id": "86e9c9a0-a728-42b8-b0aa-b058afbf3d60",
   "metadata": {},
   "source": [
    "Reading data all weather data from january to June"
   ]
  },
  {
   "cell_type": "code",
   "execution_count": 3,
   "id": "533be349-ac74-4855-a30b-f6ef61b5f2f1",
   "metadata": {},
   "outputs": [],
   "source": [
    "sdf = spark.read.csv(\"../data/landing/weather_data/*\", header=True, inferSchema=True)\n"
   ]
  },
  {
   "cell_type": "code",
   "execution_count": 4,
   "id": "44a64bd5-4571-4edf-8822-984720ed7f52",
   "metadata": {
    "scrolled": true
   },
   "outputs": [
    {
     "data": {
      "text/html": [
       "<table border='1'>\n",
       "<tr><th>name</th><th>datetime</th><th>temp</th><th>feelslike</th><th>dew</th><th>humidity</th><th>precip</th><th>precipprob</th><th>preciptype</th><th>snow</th><th>snowdepth</th><th>windgust</th><th>windspeed</th><th>winddir</th><th>sealevelpressure</th><th>cloudcover</th><th>visibility</th><th>solarradiation</th><th>solarenergy</th><th>uvindex</th><th>severerisk</th><th>conditions</th><th>icon</th><th>stations</th></tr>\n",
       "<tr><td>New york</td><td>2018-03-24 00:00:00</td><td>5.0</td><td>2.4</td><td>-4.4</td><td>50.44</td><td>0.0</td><td>0</td><td>null</td><td>0.0</td><td>0.73</td><td>null</td><td>11.2</td><td>241.0</td><td>1018.2</td><td>97.9</td><td>16.0</td><td>0.0</td><td>0.0</td><td>0</td><td>null</td><td>Overcast</td><td>cloudy</td><td>72505394728,72055...</td></tr>\n",
       "<tr><td>New york</td><td>2018-03-24 01:00:00</td><td>4.3</td><td>2.5</td><td>-5.1</td><td>50.49</td><td>0.0</td><td>0</td><td>null</td><td>0.0</td><td>0.68</td><td>null</td><td>7.4</td><td>352.0</td><td>1018.4</td><td>97.9</td><td>16.0</td><td>0.0</td><td>0.0</td><td>0</td><td>null</td><td>Overcast</td><td>cloudy</td><td>72505394728,72055...</td></tr>\n",
       "<tr><td>New york</td><td>2018-03-24 02:00:00</td><td>3.8</td><td>1.0</td><td>-5.1</td><td>52.22</td><td>0.0</td><td>0</td><td>null</td><td>0.0</td><td>0.62</td><td>42.5</td><td>11.4</td><td>312.0</td><td>1018.6</td><td>56.7</td><td>16.0</td><td>0.0</td><td>0.0</td><td>0</td><td>null</td><td>Partially cloudy</td><td>partly-cloudy-night</td><td>72505394728,72055...</td></tr>\n",
       "<tr><td>New york</td><td>2018-03-24 03:00:00</td><td>3.3</td><td>0.4</td><td>-5.1</td><td>54.19</td><td>0.0</td><td>0</td><td>null</td><td>0.0</td><td>0.57</td><td>37.1</td><td>11.1</td><td>241.0</td><td>1018.5</td><td>88.7</td><td>16.0</td><td>0.0</td><td>0.0</td><td>0</td><td>null</td><td>Partially cloudy</td><td>partly-cloudy-night</td><td>72505394728,72055...</td></tr>\n",
       "<tr><td>New york</td><td>2018-03-24 04:00:00</td><td>3.3</td><td>0.8</td><td>-5.1</td><td>54.19</td><td>0.0</td><td>0</td><td>null</td><td>0.0</td><td>0.51</td><td>null</td><td>9.4</td><td>305.0</td><td>1018.2</td><td>88.7</td><td>16.0</td><td>0.0</td><td>0.0</td><td>0</td><td>null</td><td>Partially cloudy</td><td>partly-cloudy-night</td><td>72505394728,72055...</td></tr>\n",
       "<tr><td>New york</td><td>2018-03-24 05:00:00</td><td>2.8</td><td>0.2</td><td>-5.7</td><td>53.48</td><td>0.0</td><td>0</td><td>null</td><td>0.0</td><td>0.45</td><td>null</td><td>9.6</td><td>231.0</td><td>1018.2</td><td>4.4</td><td>16.0</td><td>0.0</td><td>0.0</td><td>0</td><td>null</td><td>Clear</td><td>clear-night</td><td>72505394728,72055...</td></tr>\n",
       "<tr><td>New york</td><td>2018-03-24 06:00:00</td><td>2.8</td><td>2.8</td><td>-5.7</td><td>53.48</td><td>0.0</td><td>0</td><td>null</td><td>0.0</td><td>0.4</td><td>null</td><td>0.6</td><td>354.0</td><td>1018.5</td><td>4.4</td><td>16.0</td><td>0.9</td><td>0.0</td><td>0</td><td>null</td><td>Clear</td><td>clear-night</td><td>72505394728,72055...</td></tr>\n",
       "<tr><td>New york</td><td>2018-03-24 07:00:00</td><td>2.2</td><td>-0.1</td><td>-6.2</td><td>53.92</td><td>0.0</td><td>0</td><td>null</td><td>0.0</td><td>0.34</td><td>null</td><td>7.7</td><td>320.0</td><td>1019.1</td><td>4.4</td><td>16.0</td><td>10.0</td><td>0.0</td><td>0</td><td>null</td><td>Clear</td><td>clear-day</td><td>72505394728,72055...</td></tr>\n",
       "<tr><td>New york</td><td>2018-03-24 08:00:00</td><td>2.2</td><td>-0.6</td><td>-6.2</td><td>53.92</td><td>0.0</td><td>0</td><td>null</td><td>0.0</td><td>0.29</td><td>null</td><td>9.4</td><td>300.0</td><td>1019.6</td><td>4.4</td><td>16.0</td><td>53.0</td><td>0.2</td><td>1</td><td>null</td><td>Clear</td><td>clear-day</td><td>72505394728,72055...</td></tr>\n",
       "<tr><td>New york</td><td>2018-03-24 09:00:00</td><td>4.3</td><td>2.3</td><td>-6.2</td><td>46.48</td><td>0.0</td><td>0</td><td>null</td><td>0.0</td><td>0.0</td><td>null</td><td>7.9</td><td>304.0</td><td>1019.5</td><td>8.8</td><td>16.0</td><td>258.0</td><td>0.9</td><td>3</td><td>null</td><td>Clear</td><td>clear-day</td><td>72505394728,72055...</td></tr>\n",
       "<tr><td>New york</td><td>2018-03-24 10:00:00</td><td>6.6</td><td>4.7</td><td>-6.2</td><td>39.62</td><td>0.0</td><td>0</td><td>null</td><td>0.0</td><td>0.0</td><td>null</td><td>9.5</td><td>330.0</td><td>1019.9</td><td>8.8</td><td>16.0</td><td>561.0</td><td>2.0</td><td>6</td><td>null</td><td>Clear</td><td>clear-day</td><td>72505394728,72055...</td></tr>\n",
       "<tr><td>New york</td><td>2018-03-24 11:00:00</td><td>8.2</td><td>6.4</td><td>-6.7</td><td>34.11</td><td>0.0</td><td>0</td><td>null</td><td>0.0</td><td>0.0</td><td>51.8</td><td>10.9</td><td>350.0</td><td>1019.0</td><td>4.4</td><td>16.0</td><td>722.0</td><td>2.6</td><td>7</td><td>null</td><td>Clear</td><td>clear-day</td><td>72505394728,72055...</td></tr>\n",
       "<tr><td>New york</td><td>2018-03-24 12:00:00</td><td>8.3</td><td>6.4</td><td>-6.2</td><td>35.16</td><td>0.0</td><td>0</td><td>null</td><td>0.0</td><td>0.0</td><td>null</td><td>11.2</td><td>310.0</td><td>1018.9</td><td>7.2</td><td>16.0</td><td>826.0</td><td>3.0</td><td>8</td><td>null</td><td>Clear</td><td>clear-day</td><td>72505394728,72055...</td></tr>\n",
       "<tr><td>New york</td><td>2018-03-24 13:00:00</td><td>9.3</td><td>7.9</td><td>-6.8</td><td>31.55</td><td>0.0</td><td>0</td><td>null</td><td>0.0</td><td>0.0</td><td>null</td><td>9.7</td><td>309.0</td><td>1018.8</td><td>4.4</td><td>16.0</td><td>871.0</td><td>3.1</td><td>9</td><td>null</td><td>Clear</td><td>clear-day</td><td>72505394728,72055...</td></tr>\n",
       "<tr><td>New york</td><td>2018-03-24 14:00:00</td><td>10.5</td><td>10.5</td><td>-6.8</td><td>28.97</td><td>0.0</td><td>0</td><td>null</td><td>0.0</td><td>0.0</td><td>null</td><td>14.6</td><td>262.0</td><td>1018.1</td><td>33.2</td><td>16.0</td><td>855.0</td><td>3.1</td><td>9</td><td>null</td><td>Partially cloudy</td><td>partly-cloudy-day</td><td>72505394728,72055...</td></tr>\n",
       "<tr><td>New york</td><td>2018-03-24 15:00:00</td><td>11.1</td><td>11.1</td><td>-7.3</td><td>26.98</td><td>0.0</td><td>0</td><td>null</td><td>0.0</td><td>0.0</td><td>null</td><td>8.0</td><td>310.0</td><td>1017.5</td><td>31.1</td><td>16.0</td><td>773.0</td><td>2.8</td><td>8</td><td>null</td><td>Partially cloudy</td><td>partly-cloudy-day</td><td>72505394728,72055...</td></tr>\n",
       "<tr><td>New york</td><td>2018-03-24 16:00:00</td><td>11.1</td><td>11.1</td><td>-6.8</td><td>27.98</td><td>0.0</td><td>0</td><td>null</td><td>0.0</td><td>0.0</td><td>null</td><td>5.8</td><td>290.0</td><td>1016.8</td><td>8.8</td><td>16.0</td><td>628.0</td><td>2.3</td><td>6</td><td>null</td><td>Clear</td><td>clear-day</td><td>72505394728,72055...</td></tr>\n",
       "<tr><td>New york</td><td>2018-03-24 17:00:00</td><td>11.1</td><td>11.1</td><td>-7.3</td><td>26.98</td><td>0.0</td><td>0</td><td>null</td><td>0.0</td><td>0.0</td><td>null</td><td>12.8</td><td>261.0</td><td>1016.3</td><td>4.4</td><td>16.0</td><td>434.0</td><td>1.6</td><td>4</td><td>null</td><td>Clear</td><td>clear-day</td><td>72505394728,72055...</td></tr>\n",
       "<tr><td>New york</td><td>2018-03-24 18:00:00</td><td>11.6</td><td>11.6</td><td>-8.4</td><td>23.92</td><td>0.0</td><td>0</td><td>null</td><td>0.0</td><td>0.0</td><td>null</td><td>9.4</td><td>251.0</td><td>1016.5</td><td>4.4</td><td>16.0</td><td>207.0</td><td>0.7</td><td>2</td><td>null</td><td>Clear</td><td>clear-day</td><td>72505394728,72055...</td></tr>\n",
       "<tr><td>New york</td><td>2018-03-24 19:00:00</td><td>9.9</td><td>9.0</td><td>-8.4</td><td>26.66</td><td>0.0</td><td>0</td><td>null</td><td>0.0</td><td>0.0</td><td>53.6</td><td>7.8</td><td>271.0</td><td>1017.4</td><td>4.4</td><td>16.0</td><td>26.0</td><td>0.1</td><td>0</td><td>null</td><td>Clear</td><td>clear-day</td><td>72505394728,72055...</td></tr>\n",
       "</table>\n",
       "only showing top 20 rows\n"
      ],
      "text/plain": [
       "+--------+-------------------+----+---------+----+--------+------+----------+----------+----+---------+--------+---------+-------+----------------+----------+----------+--------------+-----------+-------+----------+----------------+-------------------+--------------------+\n",
       "|    name|           datetime|temp|feelslike| dew|humidity|precip|precipprob|preciptype|snow|snowdepth|windgust|windspeed|winddir|sealevelpressure|cloudcover|visibility|solarradiation|solarenergy|uvindex|severerisk|      conditions|               icon|            stations|\n",
       "+--------+-------------------+----+---------+----+--------+------+----------+----------+----+---------+--------+---------+-------+----------------+----------+----------+--------------+-----------+-------+----------+----------------+-------------------+--------------------+\n",
       "|New york|2018-03-24 00:00:00| 5.0|      2.4|-4.4|   50.44|   0.0|         0|      null| 0.0|     0.73|    null|     11.2|  241.0|          1018.2|      97.9|      16.0|           0.0|        0.0|      0|      null|        Overcast|             cloudy|72505394728,72055...|\n",
       "|New york|2018-03-24 01:00:00| 4.3|      2.5|-5.1|   50.49|   0.0|         0|      null| 0.0|     0.68|    null|      7.4|  352.0|          1018.4|      97.9|      16.0|           0.0|        0.0|      0|      null|        Overcast|             cloudy|72505394728,72055...|\n",
       "|New york|2018-03-24 02:00:00| 3.8|      1.0|-5.1|   52.22|   0.0|         0|      null| 0.0|     0.62|    42.5|     11.4|  312.0|          1018.6|      56.7|      16.0|           0.0|        0.0|      0|      null|Partially cloudy|partly-cloudy-night|72505394728,72055...|\n",
       "|New york|2018-03-24 03:00:00| 3.3|      0.4|-5.1|   54.19|   0.0|         0|      null| 0.0|     0.57|    37.1|     11.1|  241.0|          1018.5|      88.7|      16.0|           0.0|        0.0|      0|      null|Partially cloudy|partly-cloudy-night|72505394728,72055...|\n",
       "|New york|2018-03-24 04:00:00| 3.3|      0.8|-5.1|   54.19|   0.0|         0|      null| 0.0|     0.51|    null|      9.4|  305.0|          1018.2|      88.7|      16.0|           0.0|        0.0|      0|      null|Partially cloudy|partly-cloudy-night|72505394728,72055...|\n",
       "|New york|2018-03-24 05:00:00| 2.8|      0.2|-5.7|   53.48|   0.0|         0|      null| 0.0|     0.45|    null|      9.6|  231.0|          1018.2|       4.4|      16.0|           0.0|        0.0|      0|      null|           Clear|        clear-night|72505394728,72055...|\n",
       "|New york|2018-03-24 06:00:00| 2.8|      2.8|-5.7|   53.48|   0.0|         0|      null| 0.0|      0.4|    null|      0.6|  354.0|          1018.5|       4.4|      16.0|           0.9|        0.0|      0|      null|           Clear|        clear-night|72505394728,72055...|\n",
       "|New york|2018-03-24 07:00:00| 2.2|     -0.1|-6.2|   53.92|   0.0|         0|      null| 0.0|     0.34|    null|      7.7|  320.0|          1019.1|       4.4|      16.0|          10.0|        0.0|      0|      null|           Clear|          clear-day|72505394728,72055...|\n",
       "|New york|2018-03-24 08:00:00| 2.2|     -0.6|-6.2|   53.92|   0.0|         0|      null| 0.0|     0.29|    null|      9.4|  300.0|          1019.6|       4.4|      16.0|          53.0|        0.2|      1|      null|           Clear|          clear-day|72505394728,72055...|\n",
       "|New york|2018-03-24 09:00:00| 4.3|      2.3|-6.2|   46.48|   0.0|         0|      null| 0.0|      0.0|    null|      7.9|  304.0|          1019.5|       8.8|      16.0|         258.0|        0.9|      3|      null|           Clear|          clear-day|72505394728,72055...|\n",
       "|New york|2018-03-24 10:00:00| 6.6|      4.7|-6.2|   39.62|   0.0|         0|      null| 0.0|      0.0|    null|      9.5|  330.0|          1019.9|       8.8|      16.0|         561.0|        2.0|      6|      null|           Clear|          clear-day|72505394728,72055...|\n",
       "|New york|2018-03-24 11:00:00| 8.2|      6.4|-6.7|   34.11|   0.0|         0|      null| 0.0|      0.0|    51.8|     10.9|  350.0|          1019.0|       4.4|      16.0|         722.0|        2.6|      7|      null|           Clear|          clear-day|72505394728,72055...|\n",
       "|New york|2018-03-24 12:00:00| 8.3|      6.4|-6.2|   35.16|   0.0|         0|      null| 0.0|      0.0|    null|     11.2|  310.0|          1018.9|       7.2|      16.0|         826.0|        3.0|      8|      null|           Clear|          clear-day|72505394728,72055...|\n",
       "|New york|2018-03-24 13:00:00| 9.3|      7.9|-6.8|   31.55|   0.0|         0|      null| 0.0|      0.0|    null|      9.7|  309.0|          1018.8|       4.4|      16.0|         871.0|        3.1|      9|      null|           Clear|          clear-day|72505394728,72055...|\n",
       "|New york|2018-03-24 14:00:00|10.5|     10.5|-6.8|   28.97|   0.0|         0|      null| 0.0|      0.0|    null|     14.6|  262.0|          1018.1|      33.2|      16.0|         855.0|        3.1|      9|      null|Partially cloudy|  partly-cloudy-day|72505394728,72055...|\n",
       "|New york|2018-03-24 15:00:00|11.1|     11.1|-7.3|   26.98|   0.0|         0|      null| 0.0|      0.0|    null|      8.0|  310.0|          1017.5|      31.1|      16.0|         773.0|        2.8|      8|      null|Partially cloudy|  partly-cloudy-day|72505394728,72055...|\n",
       "|New york|2018-03-24 16:00:00|11.1|     11.1|-6.8|   27.98|   0.0|         0|      null| 0.0|      0.0|    null|      5.8|  290.0|          1016.8|       8.8|      16.0|         628.0|        2.3|      6|      null|           Clear|          clear-day|72505394728,72055...|\n",
       "|New york|2018-03-24 17:00:00|11.1|     11.1|-7.3|   26.98|   0.0|         0|      null| 0.0|      0.0|    null|     12.8|  261.0|          1016.3|       4.4|      16.0|         434.0|        1.6|      4|      null|           Clear|          clear-day|72505394728,72055...|\n",
       "|New york|2018-03-24 18:00:00|11.6|     11.6|-8.4|   23.92|   0.0|         0|      null| 0.0|      0.0|    null|      9.4|  251.0|          1016.5|       4.4|      16.0|         207.0|        0.7|      2|      null|           Clear|          clear-day|72505394728,72055...|\n",
       "|New york|2018-03-24 19:00:00| 9.9|      9.0|-8.4|   26.66|   0.0|         0|      null| 0.0|      0.0|    53.6|      7.8|  271.0|          1017.4|       4.4|      16.0|          26.0|        0.1|      0|      null|           Clear|          clear-day|72505394728,72055...|\n",
       "+--------+-------------------+----+---------+----+--------+------+----------+----------+----+---------+--------+---------+-------+----------------+----------+----------+--------------+-----------+-------+----------+----------------+-------------------+--------------------+\n",
       "only showing top 20 rows"
      ]
     },
     "execution_count": 4,
     "metadata": {},
     "output_type": "execute_result"
    }
   ],
   "source": [
    "sdf"
   ]
  },
  {
   "cell_type": "markdown",
   "id": "5f54b57a-b818-468f-8682-141e4ab9b2d5",
   "metadata": {},
   "source": [
    "### Filter our unnecessary feature and save it in raw data folder"
   ]
  },
  {
   "cell_type": "code",
   "execution_count": 5,
   "id": "295bb78c-0140-40ab-8699-35cf4041b8f6",
   "metadata": {},
   "outputs": [
    {
     "name": "stderr",
     "output_type": "stream",
     "text": [
      "23/08/20 17:56:25 WARN MemoryManager: Total allocation exceeds 95.00% (906,992,014 bytes) of heap memory\n",
      "Scaling row group sizes to 96.54% for 7 writers\n",
      "                                                                                \r"
     ]
    }
   ],
   "source": [
    "columns_to_keep = [\"datetime\", \"temp\", 'feelslike', \"snow\",\"windspeed\", 'cloudcover', \"humidity\", \"sealevelpressure\", \"conditions\"]\n",
    "sdf = sdf.select(*columns_to_keep)\n",
    "\n",
    "# save to raw \n",
    "output_folder = \"../data/raw/weather_data/\"  # Replace with the desired output folder\n",
    "sdf.write.parquet(output_folder, mode=\"overwrite\")"
   ]
  },
  {
   "cell_type": "code",
   "execution_count": 6,
   "id": "93a76535-9568-4002-95b7-b0e0efa9e2ea",
   "metadata": {
    "scrolled": true
   },
   "outputs": [
    {
     "data": {
      "text/html": [
       "<table border='1'>\n",
       "<tr><th>datetime</th><th>temp</th><th>feelslike</th><th>snow</th><th>windspeed</th><th>cloudcover</th><th>humidity</th><th>sealevelpressure</th><th>conditions</th></tr>\n",
       "<tr><td>2018-03-24 00:00:00</td><td>5.0</td><td>2.4</td><td>0.0</td><td>11.2</td><td>97.9</td><td>50.44</td><td>1018.2</td><td>Overcast</td></tr>\n",
       "<tr><td>2018-03-24 01:00:00</td><td>4.3</td><td>2.5</td><td>0.0</td><td>7.4</td><td>97.9</td><td>50.49</td><td>1018.4</td><td>Overcast</td></tr>\n",
       "<tr><td>2018-03-24 02:00:00</td><td>3.8</td><td>1.0</td><td>0.0</td><td>11.4</td><td>56.7</td><td>52.22</td><td>1018.6</td><td>Partially cloudy</td></tr>\n",
       "<tr><td>2018-03-24 03:00:00</td><td>3.3</td><td>0.4</td><td>0.0</td><td>11.1</td><td>88.7</td><td>54.19</td><td>1018.5</td><td>Partially cloudy</td></tr>\n",
       "<tr><td>2018-03-24 04:00:00</td><td>3.3</td><td>0.8</td><td>0.0</td><td>9.4</td><td>88.7</td><td>54.19</td><td>1018.2</td><td>Partially cloudy</td></tr>\n",
       "<tr><td>2018-03-24 05:00:00</td><td>2.8</td><td>0.2</td><td>0.0</td><td>9.6</td><td>4.4</td><td>53.48</td><td>1018.2</td><td>Clear</td></tr>\n",
       "<tr><td>2018-03-24 06:00:00</td><td>2.8</td><td>2.8</td><td>0.0</td><td>0.6</td><td>4.4</td><td>53.48</td><td>1018.5</td><td>Clear</td></tr>\n",
       "<tr><td>2018-03-24 07:00:00</td><td>2.2</td><td>-0.1</td><td>0.0</td><td>7.7</td><td>4.4</td><td>53.92</td><td>1019.1</td><td>Clear</td></tr>\n",
       "<tr><td>2018-03-24 08:00:00</td><td>2.2</td><td>-0.6</td><td>0.0</td><td>9.4</td><td>4.4</td><td>53.92</td><td>1019.6</td><td>Clear</td></tr>\n",
       "<tr><td>2018-03-24 09:00:00</td><td>4.3</td><td>2.3</td><td>0.0</td><td>7.9</td><td>8.8</td><td>46.48</td><td>1019.5</td><td>Clear</td></tr>\n",
       "<tr><td>2018-03-24 10:00:00</td><td>6.6</td><td>4.7</td><td>0.0</td><td>9.5</td><td>8.8</td><td>39.62</td><td>1019.9</td><td>Clear</td></tr>\n",
       "<tr><td>2018-03-24 11:00:00</td><td>8.2</td><td>6.4</td><td>0.0</td><td>10.9</td><td>4.4</td><td>34.11</td><td>1019.0</td><td>Clear</td></tr>\n",
       "<tr><td>2018-03-24 12:00:00</td><td>8.3</td><td>6.4</td><td>0.0</td><td>11.2</td><td>7.2</td><td>35.16</td><td>1018.9</td><td>Clear</td></tr>\n",
       "<tr><td>2018-03-24 13:00:00</td><td>9.3</td><td>7.9</td><td>0.0</td><td>9.7</td><td>4.4</td><td>31.55</td><td>1018.8</td><td>Clear</td></tr>\n",
       "<tr><td>2018-03-24 14:00:00</td><td>10.5</td><td>10.5</td><td>0.0</td><td>14.6</td><td>33.2</td><td>28.97</td><td>1018.1</td><td>Partially cloudy</td></tr>\n",
       "<tr><td>2018-03-24 15:00:00</td><td>11.1</td><td>11.1</td><td>0.0</td><td>8.0</td><td>31.1</td><td>26.98</td><td>1017.5</td><td>Partially cloudy</td></tr>\n",
       "<tr><td>2018-03-24 16:00:00</td><td>11.1</td><td>11.1</td><td>0.0</td><td>5.8</td><td>8.8</td><td>27.98</td><td>1016.8</td><td>Clear</td></tr>\n",
       "<tr><td>2018-03-24 17:00:00</td><td>11.1</td><td>11.1</td><td>0.0</td><td>12.8</td><td>4.4</td><td>26.98</td><td>1016.3</td><td>Clear</td></tr>\n",
       "<tr><td>2018-03-24 18:00:00</td><td>11.6</td><td>11.6</td><td>0.0</td><td>9.4</td><td>4.4</td><td>23.92</td><td>1016.5</td><td>Clear</td></tr>\n",
       "<tr><td>2018-03-24 19:00:00</td><td>9.9</td><td>9.0</td><td>0.0</td><td>7.8</td><td>4.4</td><td>26.66</td><td>1017.4</td><td>Clear</td></tr>\n",
       "</table>\n",
       "only showing top 20 rows\n"
      ],
      "text/plain": [
       "+-------------------+----+---------+----+---------+----------+--------+----------------+----------------+\n",
       "|           datetime|temp|feelslike|snow|windspeed|cloudcover|humidity|sealevelpressure|      conditions|\n",
       "+-------------------+----+---------+----+---------+----------+--------+----------------+----------------+\n",
       "|2018-03-24 00:00:00| 5.0|      2.4| 0.0|     11.2|      97.9|   50.44|          1018.2|        Overcast|\n",
       "|2018-03-24 01:00:00| 4.3|      2.5| 0.0|      7.4|      97.9|   50.49|          1018.4|        Overcast|\n",
       "|2018-03-24 02:00:00| 3.8|      1.0| 0.0|     11.4|      56.7|   52.22|          1018.6|Partially cloudy|\n",
       "|2018-03-24 03:00:00| 3.3|      0.4| 0.0|     11.1|      88.7|   54.19|          1018.5|Partially cloudy|\n",
       "|2018-03-24 04:00:00| 3.3|      0.8| 0.0|      9.4|      88.7|   54.19|          1018.2|Partially cloudy|\n",
       "|2018-03-24 05:00:00| 2.8|      0.2| 0.0|      9.6|       4.4|   53.48|          1018.2|           Clear|\n",
       "|2018-03-24 06:00:00| 2.8|      2.8| 0.0|      0.6|       4.4|   53.48|          1018.5|           Clear|\n",
       "|2018-03-24 07:00:00| 2.2|     -0.1| 0.0|      7.7|       4.4|   53.92|          1019.1|           Clear|\n",
       "|2018-03-24 08:00:00| 2.2|     -0.6| 0.0|      9.4|       4.4|   53.92|          1019.6|           Clear|\n",
       "|2018-03-24 09:00:00| 4.3|      2.3| 0.0|      7.9|       8.8|   46.48|          1019.5|           Clear|\n",
       "|2018-03-24 10:00:00| 6.6|      4.7| 0.0|      9.5|       8.8|   39.62|          1019.9|           Clear|\n",
       "|2018-03-24 11:00:00| 8.2|      6.4| 0.0|     10.9|       4.4|   34.11|          1019.0|           Clear|\n",
       "|2018-03-24 12:00:00| 8.3|      6.4| 0.0|     11.2|       7.2|   35.16|          1018.9|           Clear|\n",
       "|2018-03-24 13:00:00| 9.3|      7.9| 0.0|      9.7|       4.4|   31.55|          1018.8|           Clear|\n",
       "|2018-03-24 14:00:00|10.5|     10.5| 0.0|     14.6|      33.2|   28.97|          1018.1|Partially cloudy|\n",
       "|2018-03-24 15:00:00|11.1|     11.1| 0.0|      8.0|      31.1|   26.98|          1017.5|Partially cloudy|\n",
       "|2018-03-24 16:00:00|11.1|     11.1| 0.0|      5.8|       8.8|   27.98|          1016.8|           Clear|\n",
       "|2018-03-24 17:00:00|11.1|     11.1| 0.0|     12.8|       4.4|   26.98|          1016.3|           Clear|\n",
       "|2018-03-24 18:00:00|11.6|     11.6| 0.0|      9.4|       4.4|   23.92|          1016.5|           Clear|\n",
       "|2018-03-24 19:00:00| 9.9|      9.0| 0.0|      7.8|       4.4|   26.66|          1017.4|           Clear|\n",
       "+-------------------+----+---------+----+---------+----------+--------+----------------+----------------+\n",
       "only showing top 20 rows"
      ]
     },
     "execution_count": 6,
     "metadata": {},
     "output_type": "execute_result"
    }
   ],
   "source": [
    "sdf = spark.read.parquet(\"../data/raw/weather_data/*\")\n",
    "sdf"
   ]
  },
  {
   "cell_type": "markdown",
   "id": "b605f780-9c8d-4f95-b17e-310b86ae7cdb",
   "metadata": {},
   "source": [
    "## Now data cleaning"
   ]
  },
  {
   "cell_type": "code",
   "execution_count": 7,
   "id": "530811a1-09f1-4b63-8ef7-2e427672ac0b",
   "metadata": {},
   "outputs": [],
   "source": [
    "# snow depth cannot be negative \n",
    "sdf = sdf.filter(F.col(\"snow\") >= 0) \n",
    "# wind speed cannot be negative \n",
    "sdf = sdf.filter(F.col(\"windspeed\") >= 0) \n",
    "# assume temperate of a day in new york in 2018 does not \n",
    "# exceed the maximum temperature and minimum temperature record in US\n",
    "sdf = sdf.filter(F.col(\"temp\") < 56) \n",
    "sdf = sdf.filter(F.col(\"temp\") > -62)\n",
    "#remove any record with null \n",
    "sdf = sdf.na.drop()\n",
    "\n",
    "# create a new feature to store the hour time of the day\n",
    "sdf = sdf.withColumn(\"hour_of_the_day\", hour(col(\"datetime\")))\n",
    "sdf = sdf.withColumn(\"date\", date_format(col(\"datetime\"), \"yyyy-MM-dd\"))\n",
    "\n",
    "# Extract day of the week from pickup_time (Like Monday, Tuesday.....etc)\n",
    "sdf = sdf.withColumn(\"what_day\", date_format(col(\"date\"), \"EEEE\"))\n",
    "# Create a new column for weekday or weekend from what day \n",
    "sdf = sdf.withColumn(\"day_of_the_week\", when(col(\"what_day\").isin(\"Saturday\", \"Sunday\"), \"Weekend\").otherwise(\"Weekday\"))\n",
    "\n",
    "# Drop the original \"datetime\" column as we will focuse on hourly analysi\n",
    "sdf = sdf.drop(\"datetime\", \"what_day\")"
   ]
  },
  {
   "cell_type": "markdown",
   "id": "11600aca-ef9a-459a-97f7-b616bf544ffe",
   "metadata": {},
   "source": [
    "Save to curated data "
   ]
  },
  {
   "cell_type": "code",
   "execution_count": 8,
   "id": "fc5d7dd1-2b02-4a60-8acf-1a34ab495377",
   "metadata": {},
   "outputs": [
    {
     "data": {
      "text/html": [
       "<table border='1'>\n",
       "<tr><th>temp</th><th>feelslike</th><th>snow</th><th>windspeed</th><th>cloudcover</th><th>humidity</th><th>sealevelpressure</th><th>conditions</th><th>hour_of_the_day</th><th>date</th><th>day_of_the_week</th></tr>\n",
       "<tr><td>5.0</td><td>2.4</td><td>0.0</td><td>11.2</td><td>97.9</td><td>50.44</td><td>1018.2</td><td>Overcast</td><td>0</td><td>2018-03-24</td><td>Weekend</td></tr>\n",
       "<tr><td>4.3</td><td>2.5</td><td>0.0</td><td>7.4</td><td>97.9</td><td>50.49</td><td>1018.4</td><td>Overcast</td><td>1</td><td>2018-03-24</td><td>Weekend</td></tr>\n",
       "<tr><td>3.8</td><td>1.0</td><td>0.0</td><td>11.4</td><td>56.7</td><td>52.22</td><td>1018.6</td><td>Partially cloudy</td><td>2</td><td>2018-03-24</td><td>Weekend</td></tr>\n",
       "<tr><td>3.3</td><td>0.4</td><td>0.0</td><td>11.1</td><td>88.7</td><td>54.19</td><td>1018.5</td><td>Partially cloudy</td><td>3</td><td>2018-03-24</td><td>Weekend</td></tr>\n",
       "<tr><td>3.3</td><td>0.8</td><td>0.0</td><td>9.4</td><td>88.7</td><td>54.19</td><td>1018.2</td><td>Partially cloudy</td><td>4</td><td>2018-03-24</td><td>Weekend</td></tr>\n",
       "<tr><td>2.8</td><td>0.2</td><td>0.0</td><td>9.6</td><td>4.4</td><td>53.48</td><td>1018.2</td><td>Clear</td><td>5</td><td>2018-03-24</td><td>Weekend</td></tr>\n",
       "<tr><td>2.8</td><td>2.8</td><td>0.0</td><td>0.6</td><td>4.4</td><td>53.48</td><td>1018.5</td><td>Clear</td><td>6</td><td>2018-03-24</td><td>Weekend</td></tr>\n",
       "<tr><td>2.2</td><td>-0.1</td><td>0.0</td><td>7.7</td><td>4.4</td><td>53.92</td><td>1019.1</td><td>Clear</td><td>7</td><td>2018-03-24</td><td>Weekend</td></tr>\n",
       "<tr><td>2.2</td><td>-0.6</td><td>0.0</td><td>9.4</td><td>4.4</td><td>53.92</td><td>1019.6</td><td>Clear</td><td>8</td><td>2018-03-24</td><td>Weekend</td></tr>\n",
       "<tr><td>4.3</td><td>2.3</td><td>0.0</td><td>7.9</td><td>8.8</td><td>46.48</td><td>1019.5</td><td>Clear</td><td>9</td><td>2018-03-24</td><td>Weekend</td></tr>\n",
       "<tr><td>6.6</td><td>4.7</td><td>0.0</td><td>9.5</td><td>8.8</td><td>39.62</td><td>1019.9</td><td>Clear</td><td>10</td><td>2018-03-24</td><td>Weekend</td></tr>\n",
       "<tr><td>8.2</td><td>6.4</td><td>0.0</td><td>10.9</td><td>4.4</td><td>34.11</td><td>1019.0</td><td>Clear</td><td>11</td><td>2018-03-24</td><td>Weekend</td></tr>\n",
       "<tr><td>8.3</td><td>6.4</td><td>0.0</td><td>11.2</td><td>7.2</td><td>35.16</td><td>1018.9</td><td>Clear</td><td>12</td><td>2018-03-24</td><td>Weekend</td></tr>\n",
       "<tr><td>9.3</td><td>7.9</td><td>0.0</td><td>9.7</td><td>4.4</td><td>31.55</td><td>1018.8</td><td>Clear</td><td>13</td><td>2018-03-24</td><td>Weekend</td></tr>\n",
       "<tr><td>10.5</td><td>10.5</td><td>0.0</td><td>14.6</td><td>33.2</td><td>28.97</td><td>1018.1</td><td>Partially cloudy</td><td>14</td><td>2018-03-24</td><td>Weekend</td></tr>\n",
       "<tr><td>11.1</td><td>11.1</td><td>0.0</td><td>8.0</td><td>31.1</td><td>26.98</td><td>1017.5</td><td>Partially cloudy</td><td>15</td><td>2018-03-24</td><td>Weekend</td></tr>\n",
       "<tr><td>11.1</td><td>11.1</td><td>0.0</td><td>5.8</td><td>8.8</td><td>27.98</td><td>1016.8</td><td>Clear</td><td>16</td><td>2018-03-24</td><td>Weekend</td></tr>\n",
       "<tr><td>11.1</td><td>11.1</td><td>0.0</td><td>12.8</td><td>4.4</td><td>26.98</td><td>1016.3</td><td>Clear</td><td>17</td><td>2018-03-24</td><td>Weekend</td></tr>\n",
       "<tr><td>11.6</td><td>11.6</td><td>0.0</td><td>9.4</td><td>4.4</td><td>23.92</td><td>1016.5</td><td>Clear</td><td>18</td><td>2018-03-24</td><td>Weekend</td></tr>\n",
       "<tr><td>9.9</td><td>9.0</td><td>0.0</td><td>7.8</td><td>4.4</td><td>26.66</td><td>1017.4</td><td>Clear</td><td>19</td><td>2018-03-24</td><td>Weekend</td></tr>\n",
       "</table>\n",
       "only showing top 20 rows\n"
      ],
      "text/plain": [
       "+----+---------+----+---------+----------+--------+----------------+----------------+---------------+----------+---------------+\n",
       "|temp|feelslike|snow|windspeed|cloudcover|humidity|sealevelpressure|      conditions|hour_of_the_day|      date|day_of_the_week|\n",
       "+----+---------+----+---------+----------+--------+----------------+----------------+---------------+----------+---------------+\n",
       "| 5.0|      2.4| 0.0|     11.2|      97.9|   50.44|          1018.2|        Overcast|              0|2018-03-24|        Weekend|\n",
       "| 4.3|      2.5| 0.0|      7.4|      97.9|   50.49|          1018.4|        Overcast|              1|2018-03-24|        Weekend|\n",
       "| 3.8|      1.0| 0.0|     11.4|      56.7|   52.22|          1018.6|Partially cloudy|              2|2018-03-24|        Weekend|\n",
       "| 3.3|      0.4| 0.0|     11.1|      88.7|   54.19|          1018.5|Partially cloudy|              3|2018-03-24|        Weekend|\n",
       "| 3.3|      0.8| 0.0|      9.4|      88.7|   54.19|          1018.2|Partially cloudy|              4|2018-03-24|        Weekend|\n",
       "| 2.8|      0.2| 0.0|      9.6|       4.4|   53.48|          1018.2|           Clear|              5|2018-03-24|        Weekend|\n",
       "| 2.8|      2.8| 0.0|      0.6|       4.4|   53.48|          1018.5|           Clear|              6|2018-03-24|        Weekend|\n",
       "| 2.2|     -0.1| 0.0|      7.7|       4.4|   53.92|          1019.1|           Clear|              7|2018-03-24|        Weekend|\n",
       "| 2.2|     -0.6| 0.0|      9.4|       4.4|   53.92|          1019.6|           Clear|              8|2018-03-24|        Weekend|\n",
       "| 4.3|      2.3| 0.0|      7.9|       8.8|   46.48|          1019.5|           Clear|              9|2018-03-24|        Weekend|\n",
       "| 6.6|      4.7| 0.0|      9.5|       8.8|   39.62|          1019.9|           Clear|             10|2018-03-24|        Weekend|\n",
       "| 8.2|      6.4| 0.0|     10.9|       4.4|   34.11|          1019.0|           Clear|             11|2018-03-24|        Weekend|\n",
       "| 8.3|      6.4| 0.0|     11.2|       7.2|   35.16|          1018.9|           Clear|             12|2018-03-24|        Weekend|\n",
       "| 9.3|      7.9| 0.0|      9.7|       4.4|   31.55|          1018.8|           Clear|             13|2018-03-24|        Weekend|\n",
       "|10.5|     10.5| 0.0|     14.6|      33.2|   28.97|          1018.1|Partially cloudy|             14|2018-03-24|        Weekend|\n",
       "|11.1|     11.1| 0.0|      8.0|      31.1|   26.98|          1017.5|Partially cloudy|             15|2018-03-24|        Weekend|\n",
       "|11.1|     11.1| 0.0|      5.8|       8.8|   27.98|          1016.8|           Clear|             16|2018-03-24|        Weekend|\n",
       "|11.1|     11.1| 0.0|     12.8|       4.4|   26.98|          1016.3|           Clear|             17|2018-03-24|        Weekend|\n",
       "|11.6|     11.6| 0.0|      9.4|       4.4|   23.92|          1016.5|           Clear|             18|2018-03-24|        Weekend|\n",
       "| 9.9|      9.0| 0.0|      7.8|       4.4|   26.66|          1017.4|           Clear|             19|2018-03-24|        Weekend|\n",
       "+----+---------+----+---------+----------+--------+----------------+----------------+---------------+----------+---------------+\n",
       "only showing top 20 rows"
      ]
     },
     "execution_count": 8,
     "metadata": {},
     "output_type": "execute_result"
    }
   ],
   "source": [
    "sdf"
   ]
  },
  {
   "cell_type": "code",
   "execution_count": 9,
   "id": "59da6cd2-ccb3-4bcf-a398-7af59be22b8f",
   "metadata": {},
   "outputs": [
    {
     "name": "stderr",
     "output_type": "stream",
     "text": [
      "23/08/20 17:56:28 WARN MemoryManager: Total allocation exceeds 95.00% (906,992,014 bytes) of heap memory\n",
      "Scaling row group sizes to 96.54% for 7 writers\n"
     ]
    }
   ],
   "source": [
    "# save to curated \n",
    "output= \"../data/curated/weather_data/\"  # Replace with the desired output folder\n",
    "sdf.write.parquet(output, mode=\"overwrite\")"
   ]
  },
  {
   "cell_type": "code",
   "execution_count": null,
   "id": "ba43f1df-67c0-4277-827b-d29b4df3cb59",
   "metadata": {},
   "outputs": [],
   "source": []
  },
  {
   "cell_type": "code",
   "execution_count": null,
   "id": "fee8299c-daf4-4a34-9f0c-668b8f1d23c3",
   "metadata": {},
   "outputs": [],
   "source": []
  },
  {
   "cell_type": "code",
   "execution_count": null,
   "id": "a84662e5-2df9-415f-bfea-cc2a68910d44",
   "metadata": {},
   "outputs": [],
   "source": []
  }
 ],
 "metadata": {
  "kernelspec": {
   "display_name": "Python 3 (ipykernel)",
   "language": "python",
   "name": "python3"
  },
  "language_info": {
   "codemirror_mode": {
    "name": "ipython",
    "version": 3
   },
   "file_extension": ".py",
   "mimetype": "text/x-python",
   "name": "python",
   "nbconvert_exporter": "python",
   "pygments_lexer": "ipython3",
   "version": "3.10.6"
  }
 },
 "nbformat": 4,
 "nbformat_minor": 5
}
